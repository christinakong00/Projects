{
  "nbformat": 4,
  "nbformat_minor": 0,
  "metadata": {
    "colab": {
      "provenance": [],
      "toc_visible": true
    },
    "kernelspec": {
      "name": "python3",
      "display_name": "Python 3"
    },
    "language_info": {
      "name": "python"
    }
  },
  "cells": [
    {
      "cell_type": "markdown",
      "source": [
        "# Final Projects - Individual Contributions\n",
        "Christina Kong\n",
        "\n",
        "Professor Roth\n",
        "\n",
        "CS 543: Machine Learning\n",
        "\n",
        "May 5, 2025"
      ],
      "metadata": {
        "id": "6s8L95z45veh"
      }
    },
    {
      "cell_type": "markdown",
      "source": [
        "# Functions"
      ],
      "metadata": {
        "id": "6_fK-NpuGXpQ"
      }
    },
    {
      "cell_type": "markdown",
      "source": [
        "## Math Functions"
      ],
      "metadata": {
        "id": "GqXSmLzks9Vl"
      }
    },
    {
      "cell_type": "code",
      "execution_count": null,
      "metadata": {
        "id": "-HHnEBJelBN1",
        "colab": {
          "base_uri": "https://localhost:8080/"
        },
        "outputId": "dfe332bd-5d88-4fd6-9e7d-48abde23894a"
      },
      "outputs": [
        {
          "output_type": "stream",
          "name": "stdout",
          "text": [
            "The Result for Exercise 2.9 part A: -9\n",
            "The Result for Exercise 2.9 part B: 65\n"
          ]
        }
      ],
      "source": [
        "# Exercise 2.9 Parts A & B\n",
        "\n",
        "# Function to use for different summations\n",
        "def summation(index, equation, start=0):\n",
        "  total = 0\n",
        "  for y in range(start, index):\n",
        "    total += equation(y)\n",
        "  return total\n",
        "\n",
        "# Using lambda to define the expressions in the summations\n",
        "equationA = lambda y: y - 4\n",
        "equationB = lambda y: y**2 - 5\n",
        "\n",
        "ExerciseA = summation(6, equationA, start=0)\n",
        "print(\"The Result for Exercise 2.9 part A:\", ExerciseA)\n",
        "\n",
        "ExerciseB = summation(7, equationB, start=2)\n",
        "print(\"The Result for Exercise 2.9 part B:\", ExerciseB)\n",
        "\n",
        "# Function for Exercise 2.9 Part A\n",
        "def summationA(index):\n",
        "  total = 0\n",
        "  for y in range(index):\n",
        "    total += (y - 4)\n",
        "  return total\n",
        "\n",
        "#ExerciseA2 = summationA(6)\n",
        "#print(ExerciseA2)\n",
        "\n",
        "# Function for Exercise 2.9 Part B\n",
        "def summationB(index, start=2):\n",
        "  total = 0\n",
        "  for y in range(start, index):\n",
        "    total += (y**2 - 5)\n",
        "  return total\n",
        "\n",
        "#ExerciseB2 = summationB(7)\n",
        "#print(ExerciseB2)"
      ]
    },
    {
      "cell_type": "markdown",
      "source": [
        "## Functions for the Project"
      ],
      "metadata": {
        "id": "87fYYf6du23O"
      }
    },
    {
      "cell_type": "markdown",
      "source": [
        "### Logistic Regression Accuracy Score"
      ],
      "metadata": {
        "id": "LefOVtEe6hj4"
      }
    },
    {
      "cell_type": "code",
      "source": [
        "import numpy as np\n",
        "\n",
        "def logisticregression_accuracyscore (y_true, y_pred):\n",
        "\n",
        "  correct_predictions = (y_true == y_pred).sum()\n",
        "  total_predictions = len(y_true)\n",
        "\n",
        "  return (round(correct_predictions / total_predictions, 2))\n",
        "\n",
        "# Testing function\n",
        "y_true = np.array([1, 0, 1, 0, 1, 0])\n",
        "y_pred = np.array([1, 0, 1, 1, 1, 1])\n",
        "\n",
        "accuracy_score = logisticregression_accuracyscore(y_true, y_pred)\n",
        "print(f\"Accuracy: {accuracy_score}\")"
      ],
      "metadata": {
        "colab": {
          "base_uri": "https://localhost:8080/"
        },
        "id": "oT6js8x3beJN",
        "outputId": "3b5aecc1-a6cf-4e87-aa45-8d15e9cdd32f"
      },
      "execution_count": null,
      "outputs": [
        {
          "output_type": "stream",
          "name": "stdout",
          "text": [
            "Accuracy: 0.67\n"
          ]
        }
      ]
    },
    {
      "cell_type": "markdown",
      "source": [
        "### Pearson Correlation Coefficent"
      ],
      "metadata": {
        "id": "VO6NSouN6nn7"
      }
    },
    {
      "cell_type": "code",
      "source": [
        "import numpy as np\n",
        "\n",
        "def pearson_correlation(x, y):\n",
        "\n",
        "    x = np.asarray(x)\n",
        "    y = np.asarray(y)\n",
        "\n",
        "    numerator = np.sum((x - np.mean(x)) * (y - np.mean(y)))\n",
        "    denominator = np.sqrt(np.sum((x - np.mean(x))**2) * np.sum((y - np.mean(y))**2))\n",
        "\n",
        "    # In the case the denominator is a 0\n",
        "    if denominator == 0:\n",
        "        return np.nan # Not a number\n",
        "\n",
        "    division = (numerator/denominator)\n",
        "\n",
        "    return round(division, 2)\n",
        "\n",
        "# Testing function\n",
        "x = [1, 2, 3, 4, 5]\n",
        "y = [1, 2, 4, 7, 5]\n",
        "\n",
        "p_correlation = pearson_correlation(x, y)\n",
        "print(\"With Function:\",p_correlation)"
      ],
      "metadata": {
        "colab": {
          "base_uri": "https://localhost:8080/"
        },
        "id": "V6lFdfL637tN",
        "outputId": "3e26582a-0f3f-4afc-c72f-b97e6cc1a225"
      },
      "execution_count": null,
      "outputs": [
        {
          "output_type": "stream",
          "name": "stdout",
          "text": [
            "With Function: 0.86\n"
          ]
        }
      ]
    },
    {
      "cell_type": "markdown",
      "source": [
        "# Pokemon Classification Project"
      ],
      "metadata": {
        "id": "m3uVAxh4yge4"
      }
    },
    {
      "cell_type": "code",
      "source": [
        "from google.colab import drive\n",
        "drive.mount('/content/drive')"
      ],
      "metadata": {
        "colab": {
          "base_uri": "https://localhost:8080/"
        },
        "id": "j9Jbyxhiy22Q",
        "outputId": "5d635f5c-e32c-4bce-8248-784790a53082"
      },
      "execution_count": null,
      "outputs": [
        {
          "output_type": "stream",
          "name": "stdout",
          "text": [
            "Mounted at /content/drive\n"
          ]
        }
      ]
    },
    {
      "cell_type": "markdown",
      "source": [
        "## Importing Neccessary Libraries"
      ],
      "metadata": {
        "id": "q0YhUq_8yaBa"
      }
    },
    {
      "cell_type": "code",
      "source": [
        "# Importing neccesary libraries\n",
        "import numpy as np\n",
        "import pandas as pd\n",
        "import matplotlib.pyplot as plt\n",
        "import seaborn as sns\n",
        "from sklearn.model_selection import train_test_split\n",
        "from sklearn.linear_model import LinearRegression\n",
        "from sklearn.metrics import mean_squared_error, r2_score\n",
        "from sklearn.cluster import KMeans\n",
        "from sklearn.preprocessing import StandardScaler"
      ],
      "metadata": {
        "id": "5L6ZWACAyorj"
      },
      "execution_count": null,
      "outputs": []
    },
    {
      "cell_type": "markdown",
      "source": [
        "## Loading the Dataset"
      ],
      "metadata": {
        "id": "J7nDZzYxy-di"
      }
    },
    {
      "cell_type": "code",
      "source": [
        "# Loading the Pokemon dataset into a pandas DataFrame called pokemon_df\n",
        "pokemon_df = pd.read_csv('/content/drive/My Drive/pokemon_dataset.csv')\n",
        "\n",
        "# Outputting pokemon dataframe\n",
        "pokemon_df"
      ],
      "metadata": {
        "colab": {
          "base_uri": "https://localhost:8080/",
          "height": 423
        },
        "id": "FPoyYTBEy-Gv",
        "outputId": "8a2660f0-c573-42c5-9d08-e7f6e328e306"
      },
      "execution_count": null,
      "outputs": [
        {
          "output_type": "execute_result",
          "data": {
            "text/plain": [
              "          Name     Type  Weight  Height  Wings  Arms  Legs\n",
              "0    Bulbasaur    Grass     6.9     0.7      0     1     1\n",
              "1    Bulbasaur   Poison     6.9     0.7      0     1     1\n",
              "2      Ivysaur    Grass    13.0     1.0      0     1     1\n",
              "3      Ivysaur   Poison    13.0     1.0      0     1     1\n",
              "4     Venusaur    Grass   100.0     2.0      0     1     1\n",
              "..         ...      ...     ...     ...    ...   ...   ...\n",
              "362      Lugia   Flying   216.0     5.2      1     0     1\n",
              "363      Ho-oh     Fire   199.0     3.8      1     0     1\n",
              "364      Ho-oh   Flying   199.0     3.8      1     0     1\n",
              "365     Celebi  Psychic     5.0     0.6      1     1     1\n",
              "366     Celebi    Grass     5.0     0.6      1     1     1\n",
              "\n",
              "[367 rows x 7 columns]"
            ],
            "text/html": [
              "\n",
              "  <div id=\"df-c2a0e0e3-2b53-4237-9f3f-4faecf1f81cb\" class=\"colab-df-container\">\n",
              "    <div>\n",
              "<style scoped>\n",
              "    .dataframe tbody tr th:only-of-type {\n",
              "        vertical-align: middle;\n",
              "    }\n",
              "\n",
              "    .dataframe tbody tr th {\n",
              "        vertical-align: top;\n",
              "    }\n",
              "\n",
              "    .dataframe thead th {\n",
              "        text-align: right;\n",
              "    }\n",
              "</style>\n",
              "<table border=\"1\" class=\"dataframe\">\n",
              "  <thead>\n",
              "    <tr style=\"text-align: right;\">\n",
              "      <th></th>\n",
              "      <th>Name</th>\n",
              "      <th>Type</th>\n",
              "      <th>Weight</th>\n",
              "      <th>Height</th>\n",
              "      <th>Wings</th>\n",
              "      <th>Arms</th>\n",
              "      <th>Legs</th>\n",
              "    </tr>\n",
              "  </thead>\n",
              "  <tbody>\n",
              "    <tr>\n",
              "      <th>0</th>\n",
              "      <td>Bulbasaur</td>\n",
              "      <td>Grass</td>\n",
              "      <td>6.9</td>\n",
              "      <td>0.7</td>\n",
              "      <td>0</td>\n",
              "      <td>1</td>\n",
              "      <td>1</td>\n",
              "    </tr>\n",
              "    <tr>\n",
              "      <th>1</th>\n",
              "      <td>Bulbasaur</td>\n",
              "      <td>Poison</td>\n",
              "      <td>6.9</td>\n",
              "      <td>0.7</td>\n",
              "      <td>0</td>\n",
              "      <td>1</td>\n",
              "      <td>1</td>\n",
              "    </tr>\n",
              "    <tr>\n",
              "      <th>2</th>\n",
              "      <td>Ivysaur</td>\n",
              "      <td>Grass</td>\n",
              "      <td>13.0</td>\n",
              "      <td>1.0</td>\n",
              "      <td>0</td>\n",
              "      <td>1</td>\n",
              "      <td>1</td>\n",
              "    </tr>\n",
              "    <tr>\n",
              "      <th>3</th>\n",
              "      <td>Ivysaur</td>\n",
              "      <td>Poison</td>\n",
              "      <td>13.0</td>\n",
              "      <td>1.0</td>\n",
              "      <td>0</td>\n",
              "      <td>1</td>\n",
              "      <td>1</td>\n",
              "    </tr>\n",
              "    <tr>\n",
              "      <th>4</th>\n",
              "      <td>Venusaur</td>\n",
              "      <td>Grass</td>\n",
              "      <td>100.0</td>\n",
              "      <td>2.0</td>\n",
              "      <td>0</td>\n",
              "      <td>1</td>\n",
              "      <td>1</td>\n",
              "    </tr>\n",
              "    <tr>\n",
              "      <th>...</th>\n",
              "      <td>...</td>\n",
              "      <td>...</td>\n",
              "      <td>...</td>\n",
              "      <td>...</td>\n",
              "      <td>...</td>\n",
              "      <td>...</td>\n",
              "      <td>...</td>\n",
              "    </tr>\n",
              "    <tr>\n",
              "      <th>362</th>\n",
              "      <td>Lugia</td>\n",
              "      <td>Flying</td>\n",
              "      <td>216.0</td>\n",
              "      <td>5.2</td>\n",
              "      <td>1</td>\n",
              "      <td>0</td>\n",
              "      <td>1</td>\n",
              "    </tr>\n",
              "    <tr>\n",
              "      <th>363</th>\n",
              "      <td>Ho-oh</td>\n",
              "      <td>Fire</td>\n",
              "      <td>199.0</td>\n",
              "      <td>3.8</td>\n",
              "      <td>1</td>\n",
              "      <td>0</td>\n",
              "      <td>1</td>\n",
              "    </tr>\n",
              "    <tr>\n",
              "      <th>364</th>\n",
              "      <td>Ho-oh</td>\n",
              "      <td>Flying</td>\n",
              "      <td>199.0</td>\n",
              "      <td>3.8</td>\n",
              "      <td>1</td>\n",
              "      <td>0</td>\n",
              "      <td>1</td>\n",
              "    </tr>\n",
              "    <tr>\n",
              "      <th>365</th>\n",
              "      <td>Celebi</td>\n",
              "      <td>Psychic</td>\n",
              "      <td>5.0</td>\n",
              "      <td>0.6</td>\n",
              "      <td>1</td>\n",
              "      <td>1</td>\n",
              "      <td>1</td>\n",
              "    </tr>\n",
              "    <tr>\n",
              "      <th>366</th>\n",
              "      <td>Celebi</td>\n",
              "      <td>Grass</td>\n",
              "      <td>5.0</td>\n",
              "      <td>0.6</td>\n",
              "      <td>1</td>\n",
              "      <td>1</td>\n",
              "      <td>1</td>\n",
              "    </tr>\n",
              "  </tbody>\n",
              "</table>\n",
              "<p>367 rows × 7 columns</p>\n",
              "</div>\n",
              "    <div class=\"colab-df-buttons\">\n",
              "\n",
              "  <div class=\"colab-df-container\">\n",
              "    <button class=\"colab-df-convert\" onclick=\"convertToInteractive('df-c2a0e0e3-2b53-4237-9f3f-4faecf1f81cb')\"\n",
              "            title=\"Convert this dataframe to an interactive table.\"\n",
              "            style=\"display:none;\">\n",
              "\n",
              "  <svg xmlns=\"http://www.w3.org/2000/svg\" height=\"24px\" viewBox=\"0 -960 960 960\">\n",
              "    <path d=\"M120-120v-720h720v720H120Zm60-500h600v-160H180v160Zm220 220h160v-160H400v160Zm0 220h160v-160H400v160ZM180-400h160v-160H180v160Zm440 0h160v-160H620v160ZM180-180h160v-160H180v160Zm440 0h160v-160H620v160Z\"/>\n",
              "  </svg>\n",
              "    </button>\n",
              "\n",
              "  <style>\n",
              "    .colab-df-container {\n",
              "      display:flex;\n",
              "      gap: 12px;\n",
              "    }\n",
              "\n",
              "    .colab-df-convert {\n",
              "      background-color: #E8F0FE;\n",
              "      border: none;\n",
              "      border-radius: 50%;\n",
              "      cursor: pointer;\n",
              "      display: none;\n",
              "      fill: #1967D2;\n",
              "      height: 32px;\n",
              "      padding: 0 0 0 0;\n",
              "      width: 32px;\n",
              "    }\n",
              "\n",
              "    .colab-df-convert:hover {\n",
              "      background-color: #E2EBFA;\n",
              "      box-shadow: 0px 1px 2px rgba(60, 64, 67, 0.3), 0px 1px 3px 1px rgba(60, 64, 67, 0.15);\n",
              "      fill: #174EA6;\n",
              "    }\n",
              "\n",
              "    .colab-df-buttons div {\n",
              "      margin-bottom: 4px;\n",
              "    }\n",
              "\n",
              "    [theme=dark] .colab-df-convert {\n",
              "      background-color: #3B4455;\n",
              "      fill: #D2E3FC;\n",
              "    }\n",
              "\n",
              "    [theme=dark] .colab-df-convert:hover {\n",
              "      background-color: #434B5C;\n",
              "      box-shadow: 0px 1px 3px 1px rgba(0, 0, 0, 0.15);\n",
              "      filter: drop-shadow(0px 1px 2px rgba(0, 0, 0, 0.3));\n",
              "      fill: #FFFFFF;\n",
              "    }\n",
              "  </style>\n",
              "\n",
              "    <script>\n",
              "      const buttonEl =\n",
              "        document.querySelector('#df-c2a0e0e3-2b53-4237-9f3f-4faecf1f81cb button.colab-df-convert');\n",
              "      buttonEl.style.display =\n",
              "        google.colab.kernel.accessAllowed ? 'block' : 'none';\n",
              "\n",
              "      async function convertToInteractive(key) {\n",
              "        const element = document.querySelector('#df-c2a0e0e3-2b53-4237-9f3f-4faecf1f81cb');\n",
              "        const dataTable =\n",
              "          await google.colab.kernel.invokeFunction('convertToInteractive',\n",
              "                                                    [key], {});\n",
              "        if (!dataTable) return;\n",
              "\n",
              "        const docLinkHtml = 'Like what you see? Visit the ' +\n",
              "          '<a target=\"_blank\" href=https://colab.research.google.com/notebooks/data_table.ipynb>data table notebook</a>'\n",
              "          + ' to learn more about interactive tables.';\n",
              "        element.innerHTML = '';\n",
              "        dataTable['output_type'] = 'display_data';\n",
              "        await google.colab.output.renderOutput(dataTable, element);\n",
              "        const docLink = document.createElement('div');\n",
              "        docLink.innerHTML = docLinkHtml;\n",
              "        element.appendChild(docLink);\n",
              "      }\n",
              "    </script>\n",
              "  </div>\n",
              "\n",
              "\n",
              "    <div id=\"df-c194b3db-6bd1-4d68-b751-4542b36a0dae\">\n",
              "      <button class=\"colab-df-quickchart\" onclick=\"quickchart('df-c194b3db-6bd1-4d68-b751-4542b36a0dae')\"\n",
              "                title=\"Suggest charts\"\n",
              "                style=\"display:none;\">\n",
              "\n",
              "<svg xmlns=\"http://www.w3.org/2000/svg\" height=\"24px\"viewBox=\"0 0 24 24\"\n",
              "     width=\"24px\">\n",
              "    <g>\n",
              "        <path d=\"M19 3H5c-1.1 0-2 .9-2 2v14c0 1.1.9 2 2 2h14c1.1 0 2-.9 2-2V5c0-1.1-.9-2-2-2zM9 17H7v-7h2v7zm4 0h-2V7h2v10zm4 0h-2v-4h2v4z\"/>\n",
              "    </g>\n",
              "</svg>\n",
              "      </button>\n",
              "\n",
              "<style>\n",
              "  .colab-df-quickchart {\n",
              "      --bg-color: #E8F0FE;\n",
              "      --fill-color: #1967D2;\n",
              "      --hover-bg-color: #E2EBFA;\n",
              "      --hover-fill-color: #174EA6;\n",
              "      --disabled-fill-color: #AAA;\n",
              "      --disabled-bg-color: #DDD;\n",
              "  }\n",
              "\n",
              "  [theme=dark] .colab-df-quickchart {\n",
              "      --bg-color: #3B4455;\n",
              "      --fill-color: #D2E3FC;\n",
              "      --hover-bg-color: #434B5C;\n",
              "      --hover-fill-color: #FFFFFF;\n",
              "      --disabled-bg-color: #3B4455;\n",
              "      --disabled-fill-color: #666;\n",
              "  }\n",
              "\n",
              "  .colab-df-quickchart {\n",
              "    background-color: var(--bg-color);\n",
              "    border: none;\n",
              "    border-radius: 50%;\n",
              "    cursor: pointer;\n",
              "    display: none;\n",
              "    fill: var(--fill-color);\n",
              "    height: 32px;\n",
              "    padding: 0;\n",
              "    width: 32px;\n",
              "  }\n",
              "\n",
              "  .colab-df-quickchart:hover {\n",
              "    background-color: var(--hover-bg-color);\n",
              "    box-shadow: 0 1px 2px rgba(60, 64, 67, 0.3), 0 1px 3px 1px rgba(60, 64, 67, 0.15);\n",
              "    fill: var(--button-hover-fill-color);\n",
              "  }\n",
              "\n",
              "  .colab-df-quickchart-complete:disabled,\n",
              "  .colab-df-quickchart-complete:disabled:hover {\n",
              "    background-color: var(--disabled-bg-color);\n",
              "    fill: var(--disabled-fill-color);\n",
              "    box-shadow: none;\n",
              "  }\n",
              "\n",
              "  .colab-df-spinner {\n",
              "    border: 2px solid var(--fill-color);\n",
              "    border-color: transparent;\n",
              "    border-bottom-color: var(--fill-color);\n",
              "    animation:\n",
              "      spin 1s steps(1) infinite;\n",
              "  }\n",
              "\n",
              "  @keyframes spin {\n",
              "    0% {\n",
              "      border-color: transparent;\n",
              "      border-bottom-color: var(--fill-color);\n",
              "      border-left-color: var(--fill-color);\n",
              "    }\n",
              "    20% {\n",
              "      border-color: transparent;\n",
              "      border-left-color: var(--fill-color);\n",
              "      border-top-color: var(--fill-color);\n",
              "    }\n",
              "    30% {\n",
              "      border-color: transparent;\n",
              "      border-left-color: var(--fill-color);\n",
              "      border-top-color: var(--fill-color);\n",
              "      border-right-color: var(--fill-color);\n",
              "    }\n",
              "    40% {\n",
              "      border-color: transparent;\n",
              "      border-right-color: var(--fill-color);\n",
              "      border-top-color: var(--fill-color);\n",
              "    }\n",
              "    60% {\n",
              "      border-color: transparent;\n",
              "      border-right-color: var(--fill-color);\n",
              "    }\n",
              "    80% {\n",
              "      border-color: transparent;\n",
              "      border-right-color: var(--fill-color);\n",
              "      border-bottom-color: var(--fill-color);\n",
              "    }\n",
              "    90% {\n",
              "      border-color: transparent;\n",
              "      border-bottom-color: var(--fill-color);\n",
              "    }\n",
              "  }\n",
              "</style>\n",
              "\n",
              "      <script>\n",
              "        async function quickchart(key) {\n",
              "          const quickchartButtonEl =\n",
              "            document.querySelector('#' + key + ' button');\n",
              "          quickchartButtonEl.disabled = true;  // To prevent multiple clicks.\n",
              "          quickchartButtonEl.classList.add('colab-df-spinner');\n",
              "          try {\n",
              "            const charts = await google.colab.kernel.invokeFunction(\n",
              "                'suggestCharts', [key], {});\n",
              "          } catch (error) {\n",
              "            console.error('Error during call to suggestCharts:', error);\n",
              "          }\n",
              "          quickchartButtonEl.classList.remove('colab-df-spinner');\n",
              "          quickchartButtonEl.classList.add('colab-df-quickchart-complete');\n",
              "        }\n",
              "        (() => {\n",
              "          let quickchartButtonEl =\n",
              "            document.querySelector('#df-c194b3db-6bd1-4d68-b751-4542b36a0dae button');\n",
              "          quickchartButtonEl.style.display =\n",
              "            google.colab.kernel.accessAllowed ? 'block' : 'none';\n",
              "        })();\n",
              "      </script>\n",
              "    </div>\n",
              "\n",
              "  <div id=\"id_a799582c-a7bf-4a42-b495-2f79b615b4e5\">\n",
              "    <style>\n",
              "      .colab-df-generate {\n",
              "        background-color: #E8F0FE;\n",
              "        border: none;\n",
              "        border-radius: 50%;\n",
              "        cursor: pointer;\n",
              "        display: none;\n",
              "        fill: #1967D2;\n",
              "        height: 32px;\n",
              "        padding: 0 0 0 0;\n",
              "        width: 32px;\n",
              "      }\n",
              "\n",
              "      .colab-df-generate:hover {\n",
              "        background-color: #E2EBFA;\n",
              "        box-shadow: 0px 1px 2px rgba(60, 64, 67, 0.3), 0px 1px 3px 1px rgba(60, 64, 67, 0.15);\n",
              "        fill: #174EA6;\n",
              "      }\n",
              "\n",
              "      [theme=dark] .colab-df-generate {\n",
              "        background-color: #3B4455;\n",
              "        fill: #D2E3FC;\n",
              "      }\n",
              "\n",
              "      [theme=dark] .colab-df-generate:hover {\n",
              "        background-color: #434B5C;\n",
              "        box-shadow: 0px 1px 3px 1px rgba(0, 0, 0, 0.15);\n",
              "        filter: drop-shadow(0px 1px 2px rgba(0, 0, 0, 0.3));\n",
              "        fill: #FFFFFF;\n",
              "      }\n",
              "    </style>\n",
              "    <button class=\"colab-df-generate\" onclick=\"generateWithVariable('pokemon_df')\"\n",
              "            title=\"Generate code using this dataframe.\"\n",
              "            style=\"display:none;\">\n",
              "\n",
              "  <svg xmlns=\"http://www.w3.org/2000/svg\" height=\"24px\"viewBox=\"0 0 24 24\"\n",
              "       width=\"24px\">\n",
              "    <path d=\"M7,19H8.4L18.45,9,17,7.55,7,17.6ZM5,21V16.75L18.45,3.32a2,2,0,0,1,2.83,0l1.4,1.43a1.91,1.91,0,0,1,.58,1.4,1.91,1.91,0,0,1-.58,1.4L9.25,21ZM18.45,9,17,7.55Zm-12,3A5.31,5.31,0,0,0,4.9,8.1,5.31,5.31,0,0,0,1,6.5,5.31,5.31,0,0,0,4.9,4.9,5.31,5.31,0,0,0,6.5,1,5.31,5.31,0,0,0,8.1,4.9,5.31,5.31,0,0,0,12,6.5,5.46,5.46,0,0,0,6.5,12Z\"/>\n",
              "  </svg>\n",
              "    </button>\n",
              "    <script>\n",
              "      (() => {\n",
              "      const buttonEl =\n",
              "        document.querySelector('#id_a799582c-a7bf-4a42-b495-2f79b615b4e5 button.colab-df-generate');\n",
              "      buttonEl.style.display =\n",
              "        google.colab.kernel.accessAllowed ? 'block' : 'none';\n",
              "\n",
              "      buttonEl.onclick = () => {\n",
              "        google.colab.notebook.generateWithVariable('pokemon_df');\n",
              "      }\n",
              "      })();\n",
              "    </script>\n",
              "  </div>\n",
              "\n",
              "    </div>\n",
              "  </div>\n"
            ],
            "application/vnd.google.colaboratory.intrinsic+json": {
              "type": "dataframe",
              "variable_name": "pokemon_df",
              "summary": "{\n  \"name\": \"pokemon_df\",\n  \"rows\": 367,\n  \"fields\": [\n    {\n      \"column\": \"Name\",\n      \"properties\": {\n        \"dtype\": \"string\",\n        \"num_unique_values\": 251,\n        \"samples\": [\n          \"Quilava\",\n          \"Squirtle\",\n          \"Ledyba\"\n        ],\n        \"semantic_type\": \"\",\n        \"description\": \"\"\n      }\n    },\n    {\n      \"column\": \"Type\",\n      \"properties\": {\n        \"dtype\": \"category\",\n        \"num_unique_values\": 19,\n        \"samples\": [\n          \"Grass\",\n          \"Bug\",\n          \"Psychic\"\n        ],\n        \"semantic_type\": \"\",\n        \"description\": \"\"\n      }\n    },\n    {\n      \"column\": \"Weight\",\n      \"properties\": {\n        \"dtype\": \"number\",\n        \"std\": 64.33363573988414,\n        \"min\": 0.1,\n        \"max\": 460.0,\n        \"num_unique_values\": 161,\n        \"samples\": [\n          3.3,\n          15.8,\n          8.8\n        ],\n        \"semantic_type\": \"\",\n        \"description\": \"\"\n      }\n    },\n    {\n      \"column\": \"Height\",\n      \"properties\": {\n        \"dtype\": \"number\",\n        \"std\": 1.1208011033342904,\n        \"min\": 0.2,\n        \"max\": 9.2,\n        \"num_unique_values\": 30,\n        \"samples\": [\n          9.2,\n          0.9,\n          2.5\n        ],\n        \"semantic_type\": \"\",\n        \"description\": \"\"\n      }\n    },\n    {\n      \"column\": \"Wings\",\n      \"properties\": {\n        \"dtype\": \"number\",\n        \"std\": 0,\n        \"min\": 0,\n        \"max\": 1,\n        \"num_unique_values\": 2,\n        \"samples\": [\n          1,\n          0\n        ],\n        \"semantic_type\": \"\",\n        \"description\": \"\"\n      }\n    },\n    {\n      \"column\": \"Arms\",\n      \"properties\": {\n        \"dtype\": \"number\",\n        \"std\": 0,\n        \"min\": 0,\n        \"max\": 1,\n        \"num_unique_values\": 2,\n        \"samples\": [\n          0,\n          1\n        ],\n        \"semantic_type\": \"\",\n        \"description\": \"\"\n      }\n    },\n    {\n      \"column\": \"Legs\",\n      \"properties\": {\n        \"dtype\": \"number\",\n        \"std\": 0,\n        \"min\": 0,\n        \"max\": 1,\n        \"num_unique_values\": 2,\n        \"samples\": [\n          0,\n          1\n        ],\n        \"semantic_type\": \"\",\n        \"description\": \"\"\n      }\n    }\n  ]\n}"
            }
          },
          "metadata": {},
          "execution_count": 6
        }
      ]
    },
    {
      "cell_type": "code",
      "source": [
        "# Displays the number of entries and columns\n",
        "pokemon_df.shape"
      ],
      "metadata": {
        "colab": {
          "base_uri": "https://localhost:8080/"
        },
        "id": "ahcTA7PT163o",
        "outputId": "6c590f1e-afc0-4818-e401-4a0fc737ad8f"
      },
      "execution_count": null,
      "outputs": [
        {
          "output_type": "execute_result",
          "data": {
            "text/plain": [
              "(367, 7)"
            ]
          },
          "metadata": {},
          "execution_count": 7
        }
      ]
    },
    {
      "cell_type": "markdown",
      "source": [
        "### Pokemon Dataset Info"
      ],
      "metadata": {
        "id": "nj_1YB7D7ONF"
      }
    },
    {
      "cell_type": "code",
      "source": [
        "# Outputting information about the pokemon dataset including column names, data types, and more.\n",
        "pokemon_df.info()"
      ],
      "metadata": {
        "colab": {
          "base_uri": "https://localhost:8080/"
        },
        "id": "agM4olb_19yO",
        "outputId": "a16a7f05-21ba-42f1-bc69-52b59e238183"
      },
      "execution_count": null,
      "outputs": [
        {
          "output_type": "stream",
          "name": "stdout",
          "text": [
            "<class 'pandas.core.frame.DataFrame'>\n",
            "RangeIndex: 367 entries, 0 to 366\n",
            "Data columns (total 7 columns):\n",
            " #   Column  Non-Null Count  Dtype  \n",
            "---  ------  --------------  -----  \n",
            " 0   Name    367 non-null    object \n",
            " 1   Type    367 non-null    object \n",
            " 2   Weight  367 non-null    float64\n",
            " 3   Height  367 non-null    float64\n",
            " 4   Wings   367 non-null    int64  \n",
            " 5   Arms    367 non-null    int64  \n",
            " 6   Legs    367 non-null    int64  \n",
            "dtypes: float64(2), int64(3), object(2)\n",
            "memory usage: 20.2+ KB\n"
          ]
        }
      ]
    },
    {
      "cell_type": "markdown",
      "source": [
        "Note to Self: Height - meters, Weight - kilograms"
      ],
      "metadata": {
        "id": "3bts8k0NYlum"
      }
    },
    {
      "cell_type": "markdown",
      "source": [
        "## Data Cleaning and Preprocessing"
      ],
      "metadata": {
        "id": "ORm1-fn08GHT"
      }
    },
    {
      "cell_type": "markdown",
      "source": [
        "### Checking and Handling Missing Values"
      ],
      "metadata": {
        "id": "ebuWrnWwE1wt"
      }
    },
    {
      "cell_type": "code",
      "source": [
        "# Handling missing values\n",
        "\n",
        "# Counting for any missing values within the pokemon dataset\n",
        "pokemon_df.isna().sum()"
      ],
      "metadata": {
        "colab": {
          "base_uri": "https://localhost:8080/",
          "height": 303
        },
        "id": "C8mdkmaC9mfw",
        "outputId": "1ecf47ce-3bc9-4cf5-9c8d-c53a58bd3c31"
      },
      "execution_count": null,
      "outputs": [
        {
          "output_type": "execute_result",
          "data": {
            "text/plain": [
              "Name      0\n",
              "Type      0\n",
              "Weight    0\n",
              "Height    0\n",
              "Wings     0\n",
              "Arms      0\n",
              "Legs      0\n",
              "dtype: int64"
            ],
            "text/html": [
              "<div>\n",
              "<style scoped>\n",
              "    .dataframe tbody tr th:only-of-type {\n",
              "        vertical-align: middle;\n",
              "    }\n",
              "\n",
              "    .dataframe tbody tr th {\n",
              "        vertical-align: top;\n",
              "    }\n",
              "\n",
              "    .dataframe thead th {\n",
              "        text-align: right;\n",
              "    }\n",
              "</style>\n",
              "<table border=\"1\" class=\"dataframe\">\n",
              "  <thead>\n",
              "    <tr style=\"text-align: right;\">\n",
              "      <th></th>\n",
              "      <th>0</th>\n",
              "    </tr>\n",
              "  </thead>\n",
              "  <tbody>\n",
              "    <tr>\n",
              "      <th>Name</th>\n",
              "      <td>0</td>\n",
              "    </tr>\n",
              "    <tr>\n",
              "      <th>Type</th>\n",
              "      <td>0</td>\n",
              "    </tr>\n",
              "    <tr>\n",
              "      <th>Weight</th>\n",
              "      <td>0</td>\n",
              "    </tr>\n",
              "    <tr>\n",
              "      <th>Height</th>\n",
              "      <td>0</td>\n",
              "    </tr>\n",
              "    <tr>\n",
              "      <th>Wings</th>\n",
              "      <td>0</td>\n",
              "    </tr>\n",
              "    <tr>\n",
              "      <th>Arms</th>\n",
              "      <td>0</td>\n",
              "    </tr>\n",
              "    <tr>\n",
              "      <th>Legs</th>\n",
              "      <td>0</td>\n",
              "    </tr>\n",
              "  </tbody>\n",
              "</table>\n",
              "</div><br><label><b>dtype:</b> int64</label>"
            ]
          },
          "metadata": {},
          "execution_count": 9
        }
      ]
    },
    {
      "cell_type": "code",
      "source": [
        "# Output the entries that are NA specifically in the 'Legs' column\n",
        "pokemon_df[pokemon_df[\"Legs\"].isna() ]"
      ],
      "metadata": {
        "colab": {
          "base_uri": "https://localhost:8080/",
          "height": 53
        },
        "id": "3128sN189xFK",
        "outputId": "e39dbc11-e251-4fe6-fb04-535f656c4fd3"
      },
      "execution_count": null,
      "outputs": [
        {
          "output_type": "execute_result",
          "data": {
            "text/plain": [
              "Empty DataFrame\n",
              "Columns: [Name, Type, Weight, Height, Wings, Arms, Legs]\n",
              "Index: []"
            ],
            "text/html": [
              "\n",
              "  <div id=\"df-bb0b236d-6be8-45fb-86f4-bca8ea982cd0\" class=\"colab-df-container\">\n",
              "    <div>\n",
              "<style scoped>\n",
              "    .dataframe tbody tr th:only-of-type {\n",
              "        vertical-align: middle;\n",
              "    }\n",
              "\n",
              "    .dataframe tbody tr th {\n",
              "        vertical-align: top;\n",
              "    }\n",
              "\n",
              "    .dataframe thead th {\n",
              "        text-align: right;\n",
              "    }\n",
              "</style>\n",
              "<table border=\"1\" class=\"dataframe\">\n",
              "  <thead>\n",
              "    <tr style=\"text-align: right;\">\n",
              "      <th></th>\n",
              "      <th>Name</th>\n",
              "      <th>Type</th>\n",
              "      <th>Weight</th>\n",
              "      <th>Height</th>\n",
              "      <th>Wings</th>\n",
              "      <th>Arms</th>\n",
              "      <th>Legs</th>\n",
              "    </tr>\n",
              "  </thead>\n",
              "  <tbody>\n",
              "  </tbody>\n",
              "</table>\n",
              "</div>\n",
              "    <div class=\"colab-df-buttons\">\n",
              "\n",
              "  <div class=\"colab-df-container\">\n",
              "    <button class=\"colab-df-convert\" onclick=\"convertToInteractive('df-bb0b236d-6be8-45fb-86f4-bca8ea982cd0')\"\n",
              "            title=\"Convert this dataframe to an interactive table.\"\n",
              "            style=\"display:none;\">\n",
              "\n",
              "  <svg xmlns=\"http://www.w3.org/2000/svg\" height=\"24px\" viewBox=\"0 -960 960 960\">\n",
              "    <path d=\"M120-120v-720h720v720H120Zm60-500h600v-160H180v160Zm220 220h160v-160H400v160Zm0 220h160v-160H400v160ZM180-400h160v-160H180v160Zm440 0h160v-160H620v160ZM180-180h160v-160H180v160Zm440 0h160v-160H620v160Z\"/>\n",
              "  </svg>\n",
              "    </button>\n",
              "\n",
              "  <style>\n",
              "    .colab-df-container {\n",
              "      display:flex;\n",
              "      gap: 12px;\n",
              "    }\n",
              "\n",
              "    .colab-df-convert {\n",
              "      background-color: #E8F0FE;\n",
              "      border: none;\n",
              "      border-radius: 50%;\n",
              "      cursor: pointer;\n",
              "      display: none;\n",
              "      fill: #1967D2;\n",
              "      height: 32px;\n",
              "      padding: 0 0 0 0;\n",
              "      width: 32px;\n",
              "    }\n",
              "\n",
              "    .colab-df-convert:hover {\n",
              "      background-color: #E2EBFA;\n",
              "      box-shadow: 0px 1px 2px rgba(60, 64, 67, 0.3), 0px 1px 3px 1px rgba(60, 64, 67, 0.15);\n",
              "      fill: #174EA6;\n",
              "    }\n",
              "\n",
              "    .colab-df-buttons div {\n",
              "      margin-bottom: 4px;\n",
              "    }\n",
              "\n",
              "    [theme=dark] .colab-df-convert {\n",
              "      background-color: #3B4455;\n",
              "      fill: #D2E3FC;\n",
              "    }\n",
              "\n",
              "    [theme=dark] .colab-df-convert:hover {\n",
              "      background-color: #434B5C;\n",
              "      box-shadow: 0px 1px 3px 1px rgba(0, 0, 0, 0.15);\n",
              "      filter: drop-shadow(0px 1px 2px rgba(0, 0, 0, 0.3));\n",
              "      fill: #FFFFFF;\n",
              "    }\n",
              "  </style>\n",
              "\n",
              "    <script>\n",
              "      const buttonEl =\n",
              "        document.querySelector('#df-bb0b236d-6be8-45fb-86f4-bca8ea982cd0 button.colab-df-convert');\n",
              "      buttonEl.style.display =\n",
              "        google.colab.kernel.accessAllowed ? 'block' : 'none';\n",
              "\n",
              "      async function convertToInteractive(key) {\n",
              "        const element = document.querySelector('#df-bb0b236d-6be8-45fb-86f4-bca8ea982cd0');\n",
              "        const dataTable =\n",
              "          await google.colab.kernel.invokeFunction('convertToInteractive',\n",
              "                                                    [key], {});\n",
              "        if (!dataTable) return;\n",
              "\n",
              "        const docLinkHtml = 'Like what you see? Visit the ' +\n",
              "          '<a target=\"_blank\" href=https://colab.research.google.com/notebooks/data_table.ipynb>data table notebook</a>'\n",
              "          + ' to learn more about interactive tables.';\n",
              "        element.innerHTML = '';\n",
              "        dataTable['output_type'] = 'display_data';\n",
              "        await google.colab.output.renderOutput(dataTable, element);\n",
              "        const docLink = document.createElement('div');\n",
              "        docLink.innerHTML = docLinkHtml;\n",
              "        element.appendChild(docLink);\n",
              "      }\n",
              "    </script>\n",
              "  </div>\n",
              "\n",
              "\n",
              "    </div>\n",
              "  </div>\n"
            ],
            "application/vnd.google.colaboratory.intrinsic+json": {
              "type": "dataframe",
              "repr_error": "Out of range float values are not JSON compliant: nan"
            }
          },
          "metadata": {},
          "execution_count": 10
        }
      ]
    },
    {
      "cell_type": "code",
      "source": [
        "# To deal with the missing value for the column 'Legs', I will replace \"NaN\" with 0 to represent the Pokemon in question has no legs\n",
        "pokemon_df[\"Legs\"] = pokemon_df[\"Legs\"].fillna(0)\n",
        "\n",
        "# Selecting Dugtrio row to make sure there is no longer a missing value\n",
        "# Look up the pokemon by name\n",
        "dugtrio_name = 'Dugtrio'\n",
        "dugtrio = pokemon_df[pokemon_df['Name'] == dugtrio_name]\n",
        "\n",
        "# Printing dugtrio row\n",
        "print(dugtrio)"
      ],
      "metadata": {
        "colab": {
          "base_uri": "https://localhost:8080/"
        },
        "id": "tqTA3Q_N-U4M",
        "outputId": "ea191266-0662-4d07-fb2e-1d93664a9bac"
      },
      "execution_count": null,
      "outputs": [
        {
          "output_type": "stream",
          "name": "stdout",
          "text": [
            "       Name    Type  Weight  Height  Wings  Arms  Legs\n",
            "76  Dugtrio  Ground    33.3     0.7      0     0     0\n"
          ]
        }
      ]
    },
    {
      "cell_type": "markdown",
      "source": [
        "### Converting a column from a Float datatype to an Integer datatype"
      ],
      "metadata": {
        "id": "j05JIm64s1X_"
      }
    },
    {
      "cell_type": "code",
      "source": [
        "# Changing the column 'Legs' from float to int\n",
        "pokemon_df['Legs'] = pokemon_df['Legs'].astype(int)\n",
        "\n",
        "# Checking datatypes after change\n",
        "pokemon_df.info()"
      ],
      "metadata": {
        "colab": {
          "base_uri": "https://localhost:8080/"
        },
        "id": "jHpo61CysT4S",
        "outputId": "d786f2e7-2eb6-4ffc-b35d-ddaabd7d33fd"
      },
      "execution_count": null,
      "outputs": [
        {
          "output_type": "stream",
          "name": "stdout",
          "text": [
            "<class 'pandas.core.frame.DataFrame'>\n",
            "RangeIndex: 367 entries, 0 to 366\n",
            "Data columns (total 7 columns):\n",
            " #   Column  Non-Null Count  Dtype  \n",
            "---  ------  --------------  -----  \n",
            " 0   Name    367 non-null    object \n",
            " 1   Type    367 non-null    object \n",
            " 2   Weight  367 non-null    float64\n",
            " 3   Height  367 non-null    float64\n",
            " 4   Wings   367 non-null    int64  \n",
            " 5   Arms    367 non-null    int64  \n",
            " 6   Legs    367 non-null    int64  \n",
            "dtypes: float64(2), int64(3), object(2)\n",
            "memory usage: 20.2+ KB\n"
          ]
        }
      ]
    },
    {
      "cell_type": "code",
      "source": [
        "# Counting for any missing values within the pokemon dataset again\n",
        "pokemon_df.isna().sum()"
      ],
      "metadata": {
        "colab": {
          "base_uri": "https://localhost:8080/",
          "height": 303
        },
        "id": "7wWqY1YAACYK",
        "outputId": "9b5e6fa2-8707-445d-d28b-34be225f75ff"
      },
      "execution_count": null,
      "outputs": [
        {
          "output_type": "execute_result",
          "data": {
            "text/plain": [
              "Name      0\n",
              "Type      0\n",
              "Weight    0\n",
              "Height    0\n",
              "Wings     0\n",
              "Arms      0\n",
              "Legs      0\n",
              "dtype: int64"
            ],
            "text/html": [
              "<div>\n",
              "<style scoped>\n",
              "    .dataframe tbody tr th:only-of-type {\n",
              "        vertical-align: middle;\n",
              "    }\n",
              "\n",
              "    .dataframe tbody tr th {\n",
              "        vertical-align: top;\n",
              "    }\n",
              "\n",
              "    .dataframe thead th {\n",
              "        text-align: right;\n",
              "    }\n",
              "</style>\n",
              "<table border=\"1\" class=\"dataframe\">\n",
              "  <thead>\n",
              "    <tr style=\"text-align: right;\">\n",
              "      <th></th>\n",
              "      <th>0</th>\n",
              "    </tr>\n",
              "  </thead>\n",
              "  <tbody>\n",
              "    <tr>\n",
              "      <th>Name</th>\n",
              "      <td>0</td>\n",
              "    </tr>\n",
              "    <tr>\n",
              "      <th>Type</th>\n",
              "      <td>0</td>\n",
              "    </tr>\n",
              "    <tr>\n",
              "      <th>Weight</th>\n",
              "      <td>0</td>\n",
              "    </tr>\n",
              "    <tr>\n",
              "      <th>Height</th>\n",
              "      <td>0</td>\n",
              "    </tr>\n",
              "    <tr>\n",
              "      <th>Wings</th>\n",
              "      <td>0</td>\n",
              "    </tr>\n",
              "    <tr>\n",
              "      <th>Arms</th>\n",
              "      <td>0</td>\n",
              "    </tr>\n",
              "    <tr>\n",
              "      <th>Legs</th>\n",
              "      <td>0</td>\n",
              "    </tr>\n",
              "  </tbody>\n",
              "</table>\n",
              "</div><br><label><b>dtype:</b> int64</label>"
            ]
          },
          "metadata": {},
          "execution_count": 13
        }
      ]
    },
    {
      "cell_type": "markdown",
      "source": [
        "### Checking for Misspelling"
      ],
      "metadata": {
        "id": "e2SQMZWwnmkX"
      }
    },
    {
      "cell_type": "code",
      "source": [
        "# Checking for misspelling in the 'Type' column of the pokemon dataset using unique()\n",
        "type_unique_values = pokemon_df['Type'].unique()\n",
        "\n",
        "# Output Types\n",
        "print(type_unique_values)\n"
      ],
      "metadata": {
        "id": "EuDqcJKBE8jN",
        "colab": {
          "base_uri": "https://localhost:8080/"
        },
        "outputId": "9db763c8-a55b-4b9f-9757-f98b4cccd769"
      },
      "execution_count": null,
      "outputs": [
        {
          "output_type": "stream",
          "name": "stdout",
          "text": [
            "['Grass' 'Poison' 'Fire' 'Flying' 'Water' 'Bug' 'Normal' 'Electric'\n",
            " 'Ground' 'Fairy' 'Fighting' 'Psychic' 'Rock' 'Steel' 'Ice' 'Ghost'\n",
            " 'Electic' 'Dragon' 'Dark']\n"
          ]
        }
      ]
    },
    {
      "cell_type": "markdown",
      "source": [
        "### Handling Misspelling"
      ],
      "metadata": {
        "id": "S413_gmzkFkE"
      }
    },
    {
      "cell_type": "code",
      "source": [
        "pokemon_df['Type'] = pokemon_df['Type'].replace({'Electic': 'Electric'})\n",
        "\n",
        "# Checking for misspelling in the 'Type' column of the pokemon dataset using unique() again\n",
        "type_unique_values = pokemon_df['Type'].unique()\n",
        "\n",
        "# Output Types\n",
        "print(type_unique_values)"
      ],
      "metadata": {
        "colab": {
          "base_uri": "https://localhost:8080/"
        },
        "id": "48ijQsQtjzk9",
        "outputId": "ae069875-5dea-4819-c944-d626ec707aa9"
      },
      "execution_count": null,
      "outputs": [
        {
          "output_type": "stream",
          "name": "stdout",
          "text": [
            "['Grass' 'Poison' 'Fire' 'Flying' 'Water' 'Bug' 'Normal' 'Electric'\n",
            " 'Ground' 'Fairy' 'Fighting' 'Psychic' 'Rock' 'Steel' 'Ice' 'Ghost'\n",
            " 'Dragon' 'Dark']\n"
          ]
        }
      ]
    },
    {
      "cell_type": "code",
      "source": [
        "# Checking for misspelling in the 'Name' column of the pokemon dataset using unique()\n",
        "name_unique_values = pokemon_df['Name'].unique()\n",
        "\n",
        "# Output Types\n",
        "print(name_unique_values)"
      ],
      "metadata": {
        "colab": {
          "base_uri": "https://localhost:8080/"
        },
        "id": "OEyYL3ht2zvk",
        "outputId": "d2678cb8-6583-400f-b109-9adcf4fc4848"
      },
      "execution_count": null,
      "outputs": [
        {
          "output_type": "stream",
          "name": "stdout",
          "text": [
            "['Bulbasaur' 'Ivysaur' 'Venusaur' 'Charmander' 'Charmeleon' 'Charizard'\n",
            " 'Squirtle' 'Wartortle' 'Blastoise' 'Caterpie' 'Metapod' 'Butterfree'\n",
            " 'Weedle' 'Kakuna' 'Beedrill' 'Pidgey' 'Pidgeotto' 'Pidgeot' 'Rattata'\n",
            " 'Raticate' 'Spearow' 'Fearow' 'Ekans' 'Arbok' 'Pikachu' 'Raichu'\n",
            " 'Sandshrew' 'Sandslash' 'Nidoran♀' 'Nidorina' 'Nidoqueen' 'Nidoran♂'\n",
            " 'Nidorino' 'Nidoking' 'Clefairy' 'Clefable' 'Vulpix' 'Ninetales'\n",
            " 'Jigglypuff' 'Wigglytuff' 'Zubat' 'Golbat' 'Oddish' 'Gloom' 'Vileplume'\n",
            " 'Paras' 'Parasect' 'Venonat' 'Venomoth' 'Diglett' 'Dugtrio' 'Meowth'\n",
            " 'Persian' 'Psyduck' 'Golduck' 'Mankey' 'Primeape' 'Growlithe' 'Arcanine'\n",
            " 'Poliwag' 'Poliwhirl' 'Poliwrath' 'Abra' 'Kadabra' 'Alakazam' 'Machop'\n",
            " 'Machoke' 'Machamp' 'Bellsprout' 'Weepinbell' 'Victreebel' 'Tentacool'\n",
            " 'Tentacruel' 'Geodude' 'Graveler' 'Golem' 'Ponyta' 'Rapidash' 'Slowpoke'\n",
            " 'Slowbro' 'Magnemite' 'Magneton' \"Farfetch'd\" 'Doduo' 'Dodrio' 'Seel'\n",
            " 'Dewgong' 'Grimer' 'Muk' 'Shelder' 'Cloyster' 'Gastly' 'Haunter' 'Gengar'\n",
            " 'Onix' 'Drowzee' 'Hypno' 'Krabby' 'Kingler' 'Voltorb' 'Electrode'\n",
            " 'Exeggute' 'Exeggutor' 'Cubone' 'Marowak' 'Hitmonlee' 'Hitmonchan'\n",
            " 'Lickitung' 'Koffing' 'Weezing' 'Rhyhorn' 'Rhydon' 'Chansey' 'Tangela'\n",
            " 'Kangaskhan' 'Horsea' 'Seadra' 'Goldeen' 'Seaking' 'Staryu' 'Starmie'\n",
            " 'Mr. Mime' 'Scyther' 'Jynx' 'Electabuzz' 'Magmar' 'Pinsir' 'Tauros'\n",
            " 'Magikarp' 'Gyarados' 'Lapras' 'Ditto' 'Eevee' 'Vaporeon' 'Jolteon'\n",
            " 'Flareon' 'Porygon' 'Omanyte' 'Omastar' 'Kabuto' 'Kabutops' 'Aerodactyl'\n",
            " 'Snorlax' 'Articuno' 'Zapdos' 'Moltres' 'Dratini' 'Dragonair' 'Dragonite'\n",
            " 'Mewtwo' 'Mew' 'Chikorita' 'Bayleef' 'Meganium' 'Cyndaquil' 'Quilava'\n",
            " 'Typhlosion' 'Totodile' 'Croconaw' 'Feraligatr' 'Sentret' 'Furret'\n",
            " 'Hoothoot' 'Noctowl' 'Ledyba' 'Ledian' 'Spinarak' 'Ariados' 'Crobat'\n",
            " 'Chinchou' 'Lanturn' 'Pichu' 'Cleffa' 'Igglybuff' 'Togepi' 'Togetic'\n",
            " 'Natu' 'Xatu' 'Mareep' 'Flaaffy' 'Ampharos' 'Bellossom' 'Marill'\n",
            " 'Azumarill' 'Sudowoodo' 'Politoed' 'Hoppip' 'Skiploom' 'Jumpluff' 'Aipom'\n",
            " 'Sunkern' 'Sunflora' 'Yanma' 'Wooper' 'Quagsire' 'Espeon' 'Umbreon'\n",
            " 'Murkrow' 'Slowking' 'Misdreavus' 'Unown' 'Wobbuffet' 'Girafarig'\n",
            " 'Pineco' 'Forretress' 'Dunsparce' 'Gligar' 'Steelix' 'Snubbull'\n",
            " 'Granbull' 'Qwilfish' 'Scizor' 'Shuckle' 'Heracross' 'Sneasel'\n",
            " 'Teddiursa' 'Ursaring' 'Slugma' 'Magcargo' 'Swinub' 'Piloswine' 'Corsola'\n",
            " 'Remoraid' 'Octillery' 'Delibird' 'Mantine' 'Skarmory' 'Houndour'\n",
            " 'Houndoom' 'Kingdra' 'Phanpy' 'Donphan' 'Porygon2' 'Stantler' 'Smeargle'\n",
            " 'Tyrogue' 'Hitmontop' 'Smoochum' 'Elekid' 'Magby' 'Miltank' 'Blissey'\n",
            " 'Raikou' 'Entei' 'Suicune' 'Larvitar' 'Pupitar' 'Tyranitar' 'Lugia'\n",
            " 'Ho-oh' 'Celebi']\n"
          ]
        }
      ]
    },
    {
      "cell_type": "markdown",
      "source": [
        "### Convert Categorical Variables to Numerical Using One-Hot Encoding"
      ],
      "metadata": {
        "id": "LV7ItkyT7tVP"
      }
    },
    {
      "cell_type": "code",
      "source": [
        "# Convert categorical variables to numerical using one-hot encoding\n",
        "# I chose to convert the 'Type' column from categorical to numerical\n",
        "\n",
        "pokemon_encoded = pd.get_dummies(pokemon_df, columns=['Type'])\n",
        "\n",
        "# Verify the encoded column names\n",
        "for i in pokemon_encoded.columns:\n",
        "  print(i)"
      ],
      "metadata": {
        "colab": {
          "base_uri": "https://localhost:8080/"
        },
        "id": "R5WoaNb274dO",
        "outputId": "29545ea9-f38c-46de-8f36-90d4d4ab49c4"
      },
      "execution_count": null,
      "outputs": [
        {
          "output_type": "stream",
          "name": "stdout",
          "text": [
            "Name\n",
            "Weight\n",
            "Height\n",
            "Wings\n",
            "Arms\n",
            "Legs\n",
            "Type_Bug\n",
            "Type_Dark\n",
            "Type_Dragon\n",
            "Type_Electric\n",
            "Type_Fairy\n",
            "Type_Fighting\n",
            "Type_Fire\n",
            "Type_Flying\n",
            "Type_Ghost\n",
            "Type_Grass\n",
            "Type_Ground\n",
            "Type_Ice\n",
            "Type_Normal\n",
            "Type_Poison\n",
            "Type_Psychic\n",
            "Type_Rock\n",
            "Type_Steel\n",
            "Type_Water\n"
          ]
        }
      ]
    },
    {
      "cell_type": "markdown",
      "source": [
        "## Data Analysis"
      ],
      "metadata": {
        "id": "lyB3Sy_vxDkj"
      }
    },
    {
      "cell_type": "markdown",
      "source": [
        "## Calculate and Display Basic Statistics"
      ],
      "metadata": {
        "id": "4sXKOWXwyni5"
      }
    },
    {
      "cell_type": "markdown",
      "source": [
        "### Counting Number of Pokemon for Each Type"
      ],
      "metadata": {
        "id": "9QJMHdvTybaC"
      }
    },
    {
      "cell_type": "code",
      "source": [
        "# Counting the number of pokemon for each type\n",
        "type_count = pokemon_df['Type'].value_counts()\n",
        "print(type_count)"
      ],
      "metadata": {
        "colab": {
          "base_uri": "https://localhost:8080/"
        },
        "id": "M-o0-IyyxG5d",
        "outputId": "6aa928ad-fcf3-4d0b-d044-c8a2707f5118"
      },
      "execution_count": null,
      "outputs": [
        {
          "output_type": "stream",
          "name": "stdout",
          "text": [
            "Type\n",
            "Water       50\n",
            "Flying      39\n",
            "Poison      38\n",
            "Normal      36\n",
            "Grass       24\n",
            "Ground      24\n",
            "Psychic     24\n",
            "Fire        22\n",
            "Bug         21\n",
            "Rock        18\n",
            "Electric    17\n",
            "Fairy       13\n",
            "Fighting    11\n",
            "Ice         10\n",
            "Steel        6\n",
            "Dark         6\n",
            "Ghost        4\n",
            "Dragon       4\n",
            "Name: count, dtype: int64\n"
          ]
        }
      ]
    },
    {
      "cell_type": "markdown",
      "source": [
        "### 'Weight' Column Statistics"
      ],
      "metadata": {
        "id": "mbth2RKZ0wJY"
      }
    },
    {
      "cell_type": "code",
      "source": [
        "# Statistics for the 'Weight' column of the Pokemon dataset\n",
        "weight_desc = pokemon_df['Weight'].describe()\n",
        "print(weight_desc)\n",
        "\n",
        "# Looking up the Pokemon with the Highest Weight\n",
        "max_weight = pokemon_df['Weight'].idxmax()\n",
        "max_weight_pokemon = pokemon_df.loc[max_weight, 'Name']\n",
        "print(\"\\nPokemon with Max Weight:\", max_weight_pokemon, \"-\", max_weight)\n",
        "\n",
        "# Looking up the Pokemon with the Lowest Weight\n",
        "min_weight = pokemon_df['Weight'].idxmin()\n",
        "min_weight_pokemon = pokemon_df.loc[min_weight, 'Name']\n",
        "print(\"\\nPokemon with Min Weight:\", min_weight_pokemon, \"-\",min_weight)"
      ],
      "metadata": {
        "colab": {
          "base_uri": "https://localhost:8080/"
        },
        "id": "jkQKu-_xx1sf",
        "outputId": "57f6d473-f28e-419d-bfb7-a2327c4517fd"
      },
      "execution_count": null,
      "outputs": [
        {
          "output_type": "stream",
          "name": "stdout",
          "text": [
            "count    367.000000\n",
            "mean      50.167302\n",
            "std       64.333636\n",
            "min        0.100000\n",
            "25%        8.600000\n",
            "50%       30.000000\n",
            "75%       60.000000\n",
            "max      460.000000\n",
            "Name: Weight, dtype: float64\n",
            "\n",
            "Pokemon with Max Weight: Snorlax - 205\n",
            "\n",
            "Pokemon with Min Weight: Gastly - 135\n"
          ]
        }
      ]
    },
    {
      "cell_type": "markdown",
      "source": [
        "### 'Height' Column Statistics"
      ],
      "metadata": {
        "id": "ic0WAgYD4mAT"
      }
    },
    {
      "cell_type": "code",
      "source": [
        "# Statistics for the 'Height' column of the Pokemon dataset\n",
        "height_desc = pokemon_df['Height'].describe()\n",
        "print(height_desc)\n",
        "\n",
        "# Looking up the Pokemon with the Highest Weight\n",
        "max_height = pokemon_df['Height'].idxmax()\n",
        "max_height_pokemon = pokemon_df.loc[max_height, 'Name']\n",
        "print(\"\\nPokemon with Max Height:\", max_height_pokemon, \"-\", max_height)\n",
        "\n",
        "# Looking up the Pokemon with the Lowest Weight\n",
        "min_height = pokemon_df['Height'].idxmin()\n",
        "min_height_pokemon = pokemon_df.loc[min_height, 'Name']\n",
        "print(\"\\nPokemon with Min Height:\", min_height_pokemon, \"-\",min_height)"
      ],
      "metadata": {
        "colab": {
          "base_uri": "https://localhost:8080/"
        },
        "id": "cKaLYH1903TI",
        "outputId": "156aa82e-dbe5-4ac3-c601-d660cab6a442"
      },
      "execution_count": null,
      "outputs": [
        {
          "output_type": "stream",
          "name": "stdout",
          "text": [
            "count    367.000000\n",
            "mean       1.234332\n",
            "std        1.120801\n",
            "min        0.200000\n",
            "25%        0.600000\n",
            "50%        1.000000\n",
            "75%        1.500000\n",
            "max        9.200000\n",
            "Name: Height, dtype: float64\n",
            "\n",
            "Pokemon with Max Height: Steelix - 300\n",
            "\n",
            "Pokemon with Min Height: Diglett - 75\n"
          ]
        }
      ]
    },
    {
      "cell_type": "markdown",
      "source": [
        "### Counting Number of Pokemon That Has or Does Not Have Wings"
      ],
      "metadata": {
        "id": "KKIx2Xyi7Vm_"
      }
    },
    {
      "cell_type": "code",
      "source": [
        "# Counting number of pokemon who have wings and do not have wings\n",
        "tails_yes = (pokemon_df['Wings'] == 1).sum()\n",
        "print(\"Number of Pokemon With Wings\", tails_yes)\n",
        "\n",
        "tails_no = (pokemon_df['Wings'] == 0).sum()\n",
        "print(\"Number of Pokemon Without Wings\", tails_no)"
      ],
      "metadata": {
        "id": "kJzLd_Lc7dbj",
        "colab": {
          "base_uri": "https://localhost:8080/"
        },
        "outputId": "6dee84c8-d092-42d0-99f8-069e7d62a64b"
      },
      "execution_count": null,
      "outputs": [
        {
          "output_type": "stream",
          "name": "stdout",
          "text": [
            "Number of Pokemon With Wings 71\n",
            "Number of Pokemon Without Wings 296\n"
          ]
        }
      ]
    },
    {
      "cell_type": "markdown",
      "source": [
        "### Counting Number of Pokemon That Has Arms or Does Not Have Arms"
      ],
      "metadata": {
        "id": "X_4AI5I_R6aS"
      }
    },
    {
      "cell_type": "code",
      "source": [
        "# Counting number of pokemon who have wings and do not have wings\n",
        "arms_yes = (pokemon_df['Arms'] == 1).sum()\n",
        "print(\"Number of Pokemon With Arms\", arms_yes)\n",
        "\n",
        "arms_no = (pokemon_df['Arms'] == 0).sum()\n",
        "print(\"Number of Pokemon Without Arms\", arms_no)"
      ],
      "metadata": {
        "colab": {
          "base_uri": "https://localhost:8080/"
        },
        "id": "V5KUmD8KR5Ph",
        "outputId": "43b7f17e-8650-4918-9c9c-7798225b0166"
      },
      "execution_count": null,
      "outputs": [
        {
          "output_type": "stream",
          "name": "stdout",
          "text": [
            "Number of Pokemon With Arms 198\n",
            "Number of Pokemon Without Arms 169\n"
          ]
        }
      ]
    },
    {
      "cell_type": "markdown",
      "source": [
        "### Counting Number of Pokemon That Has Legs or Does Not Have Legs"
      ],
      "metadata": {
        "id": "5fGUF_PTTkvt"
      }
    },
    {
      "cell_type": "code",
      "source": [
        "# Counting number of pokemon who have wings and do not have wings\n",
        "legs_yes = (pokemon_df['Legs'] == 1).sum()\n",
        "print(\"Number of Pokemon With Legs\", legs_yes)\n",
        "\n",
        "legs_no = (pokemon_df['Legs'] == 0).sum()\n",
        "print(\"Number of Pokemon Without Legs\", legs_no)"
      ],
      "metadata": {
        "colab": {
          "base_uri": "https://localhost:8080/"
        },
        "id": "aJ4Gp8WtTlCy",
        "outputId": "f9e990c2-7c09-4bd3-eb9a-9f9ee37cc7a4"
      },
      "execution_count": null,
      "outputs": [
        {
          "output_type": "stream",
          "name": "stdout",
          "text": [
            "Number of Pokemon With Legs 281\n",
            "Number of Pokemon Without Legs 86\n"
          ]
        }
      ]
    },
    {
      "cell_type": "markdown",
      "source": [
        "## Group the data by different features to find correlations."
      ],
      "metadata": {
        "id": "PnY9vCgeU75k"
      }
    },
    {
      "cell_type": "markdown",
      "source": [
        "### Counting Pokemon with Wings Based on Type"
      ],
      "metadata": {
        "id": "NqVAi1WYWW6A"
      }
    },
    {
      "cell_type": "code",
      "source": [
        "# Displaying number of pokemon with wings based on type\n",
        "Wing_Count = pokemon_df.groupby('Type')['Wings'].sum()\n",
        "Wing_Count"
      ],
      "metadata": {
        "colab": {
          "base_uri": "https://localhost:8080/",
          "height": 680
        },
        "id": "w6t59xTSVpeD",
        "outputId": "7c2d5b72-d83f-4473-b1b7-6fae67b35c89"
      },
      "execution_count": null,
      "outputs": [
        {
          "output_type": "execute_result",
          "data": {
            "text/plain": [
              "Type\n",
              "Bug          7\n",
              "Dark         1\n",
              "Dragon       1\n",
              "Electric     1\n",
              "Fairy        1\n",
              "Fighting     1\n",
              "Fire         3\n",
              "Flying      33\n",
              "Ghost        0\n",
              "Grass        1\n",
              "Ground       1\n",
              "Ice          2\n",
              "Normal       8\n",
              "Poison       3\n",
              "Psychic      4\n",
              "Rock         1\n",
              "Steel        2\n",
              "Water        1\n",
              "Name: Wings, dtype: int64"
            ],
            "text/html": [
              "<div>\n",
              "<style scoped>\n",
              "    .dataframe tbody tr th:only-of-type {\n",
              "        vertical-align: middle;\n",
              "    }\n",
              "\n",
              "    .dataframe tbody tr th {\n",
              "        vertical-align: top;\n",
              "    }\n",
              "\n",
              "    .dataframe thead th {\n",
              "        text-align: right;\n",
              "    }\n",
              "</style>\n",
              "<table border=\"1\" class=\"dataframe\">\n",
              "  <thead>\n",
              "    <tr style=\"text-align: right;\">\n",
              "      <th></th>\n",
              "      <th>Wings</th>\n",
              "    </tr>\n",
              "    <tr>\n",
              "      <th>Type</th>\n",
              "      <th></th>\n",
              "    </tr>\n",
              "  </thead>\n",
              "  <tbody>\n",
              "    <tr>\n",
              "      <th>Bug</th>\n",
              "      <td>7</td>\n",
              "    </tr>\n",
              "    <tr>\n",
              "      <th>Dark</th>\n",
              "      <td>1</td>\n",
              "    </tr>\n",
              "    <tr>\n",
              "      <th>Dragon</th>\n",
              "      <td>1</td>\n",
              "    </tr>\n",
              "    <tr>\n",
              "      <th>Electric</th>\n",
              "      <td>1</td>\n",
              "    </tr>\n",
              "    <tr>\n",
              "      <th>Fairy</th>\n",
              "      <td>1</td>\n",
              "    </tr>\n",
              "    <tr>\n",
              "      <th>Fighting</th>\n",
              "      <td>1</td>\n",
              "    </tr>\n",
              "    <tr>\n",
              "      <th>Fire</th>\n",
              "      <td>3</td>\n",
              "    </tr>\n",
              "    <tr>\n",
              "      <th>Flying</th>\n",
              "      <td>33</td>\n",
              "    </tr>\n",
              "    <tr>\n",
              "      <th>Ghost</th>\n",
              "      <td>0</td>\n",
              "    </tr>\n",
              "    <tr>\n",
              "      <th>Grass</th>\n",
              "      <td>1</td>\n",
              "    </tr>\n",
              "    <tr>\n",
              "      <th>Ground</th>\n",
              "      <td>1</td>\n",
              "    </tr>\n",
              "    <tr>\n",
              "      <th>Ice</th>\n",
              "      <td>2</td>\n",
              "    </tr>\n",
              "    <tr>\n",
              "      <th>Normal</th>\n",
              "      <td>8</td>\n",
              "    </tr>\n",
              "    <tr>\n",
              "      <th>Poison</th>\n",
              "      <td>3</td>\n",
              "    </tr>\n",
              "    <tr>\n",
              "      <th>Psychic</th>\n",
              "      <td>4</td>\n",
              "    </tr>\n",
              "    <tr>\n",
              "      <th>Rock</th>\n",
              "      <td>1</td>\n",
              "    </tr>\n",
              "    <tr>\n",
              "      <th>Steel</th>\n",
              "      <td>2</td>\n",
              "    </tr>\n",
              "    <tr>\n",
              "      <th>Water</th>\n",
              "      <td>1</td>\n",
              "    </tr>\n",
              "  </tbody>\n",
              "</table>\n",
              "</div><br><label><b>dtype:</b> int64</label>"
            ]
          },
          "metadata": {},
          "execution_count": 24
        }
      ]
    },
    {
      "cell_type": "markdown",
      "source": [
        "### Counting Pokemon with Arms Based on Type"
      ],
      "metadata": {
        "id": "EyJJm7wYXYJH"
      }
    },
    {
      "cell_type": "code",
      "source": [
        "# Displaying number of pokemon with arms based on type\n",
        "Arms_Count = pokemon_df.groupby('Type')['Arms'].sum()\n",
        "Arms_Count"
      ],
      "metadata": {
        "colab": {
          "base_uri": "https://localhost:8080/",
          "height": 680
        },
        "id": "A8zNaGhkWDGQ",
        "outputId": "d5d1e1d4-bbaf-433b-f606-7cdb07a6a125"
      },
      "execution_count": null,
      "outputs": [
        {
          "output_type": "execute_result",
          "data": {
            "text/plain": [
              "Type\n",
              "Bug         11\n",
              "Dark         2\n",
              "Dragon       1\n",
              "Electric    10\n",
              "Fairy       13\n",
              "Fighting    11\n",
              "Fire        15\n",
              "Flying      11\n",
              "Ghost        1\n",
              "Grass       11\n",
              "Ground      14\n",
              "Ice          5\n",
              "Normal      21\n",
              "Poison      16\n",
              "Psychic     16\n",
              "Rock        10\n",
              "Steel        1\n",
              "Water       29\n",
              "Name: Arms, dtype: int64"
            ],
            "text/html": [
              "<div>\n",
              "<style scoped>\n",
              "    .dataframe tbody tr th:only-of-type {\n",
              "        vertical-align: middle;\n",
              "    }\n",
              "\n",
              "    .dataframe tbody tr th {\n",
              "        vertical-align: top;\n",
              "    }\n",
              "\n",
              "    .dataframe thead th {\n",
              "        text-align: right;\n",
              "    }\n",
              "</style>\n",
              "<table border=\"1\" class=\"dataframe\">\n",
              "  <thead>\n",
              "    <tr style=\"text-align: right;\">\n",
              "      <th></th>\n",
              "      <th>Arms</th>\n",
              "    </tr>\n",
              "    <tr>\n",
              "      <th>Type</th>\n",
              "      <th></th>\n",
              "    </tr>\n",
              "  </thead>\n",
              "  <tbody>\n",
              "    <tr>\n",
              "      <th>Bug</th>\n",
              "      <td>11</td>\n",
              "    </tr>\n",
              "    <tr>\n",
              "      <th>Dark</th>\n",
              "      <td>2</td>\n",
              "    </tr>\n",
              "    <tr>\n",
              "      <th>Dragon</th>\n",
              "      <td>1</td>\n",
              "    </tr>\n",
              "    <tr>\n",
              "      <th>Electric</th>\n",
              "      <td>10</td>\n",
              "    </tr>\n",
              "    <tr>\n",
              "      <th>Fairy</th>\n",
              "      <td>13</td>\n",
              "    </tr>\n",
              "    <tr>\n",
              "      <th>Fighting</th>\n",
              "      <td>11</td>\n",
              "    </tr>\n",
              "    <tr>\n",
              "      <th>Fire</th>\n",
              "      <td>15</td>\n",
              "    </tr>\n",
              "    <tr>\n",
              "      <th>Flying</th>\n",
              "      <td>11</td>\n",
              "    </tr>\n",
              "    <tr>\n",
              "      <th>Ghost</th>\n",
              "      <td>1</td>\n",
              "    </tr>\n",
              "    <tr>\n",
              "      <th>Grass</th>\n",
              "      <td>11</td>\n",
              "    </tr>\n",
              "    <tr>\n",
              "      <th>Ground</th>\n",
              "      <td>14</td>\n",
              "    </tr>\n",
              "    <tr>\n",
              "      <th>Ice</th>\n",
              "      <td>5</td>\n",
              "    </tr>\n",
              "    <tr>\n",
              "      <th>Normal</th>\n",
              "      <td>21</td>\n",
              "    </tr>\n",
              "    <tr>\n",
              "      <th>Poison</th>\n",
              "      <td>16</td>\n",
              "    </tr>\n",
              "    <tr>\n",
              "      <th>Psychic</th>\n",
              "      <td>16</td>\n",
              "    </tr>\n",
              "    <tr>\n",
              "      <th>Rock</th>\n",
              "      <td>10</td>\n",
              "    </tr>\n",
              "    <tr>\n",
              "      <th>Steel</th>\n",
              "      <td>1</td>\n",
              "    </tr>\n",
              "    <tr>\n",
              "      <th>Water</th>\n",
              "      <td>29</td>\n",
              "    </tr>\n",
              "  </tbody>\n",
              "</table>\n",
              "</div><br><label><b>dtype:</b> int64</label>"
            ]
          },
          "metadata": {},
          "execution_count": 25
        }
      ]
    },
    {
      "cell_type": "markdown",
      "source": [
        "### Counting Pokemon with Legs Based on Type"
      ],
      "metadata": {
        "id": "HLmnUF3QXn2u"
      }
    },
    {
      "cell_type": "code",
      "source": [
        "# Displaying number of pokemon with arms based on type\n",
        "Legs_Count = pokemon_df.groupby('Type')['Legs'].sum()\n",
        "Legs_Count"
      ],
      "metadata": {
        "colab": {
          "base_uri": "https://localhost:8080/",
          "height": 680
        },
        "id": "_LCJcIzEWJi8",
        "outputId": "54f213c0-fc5d-4b3c-dbb7-a933176def36"
      },
      "execution_count": null,
      "outputs": [
        {
          "output_type": "execute_result",
          "data": {
            "text/plain": [
              "Type\n",
              "Bug         18\n",
              "Dark         6\n",
              "Dragon       1\n",
              "Electric    12\n",
              "Fairy       13\n",
              "Fighting    11\n",
              "Fire        20\n",
              "Flying      35\n",
              "Ghost        1\n",
              "Grass       20\n",
              "Ground      18\n",
              "Ice          7\n",
              "Normal      34\n",
              "Poison      21\n",
              "Psychic     21\n",
              "Rock        11\n",
              "Steel        2\n",
              "Water       30\n",
              "Name: Legs, dtype: int64"
            ],
            "text/html": [
              "<div>\n",
              "<style scoped>\n",
              "    .dataframe tbody tr th:only-of-type {\n",
              "        vertical-align: middle;\n",
              "    }\n",
              "\n",
              "    .dataframe tbody tr th {\n",
              "        vertical-align: top;\n",
              "    }\n",
              "\n",
              "    .dataframe thead th {\n",
              "        text-align: right;\n",
              "    }\n",
              "</style>\n",
              "<table border=\"1\" class=\"dataframe\">\n",
              "  <thead>\n",
              "    <tr style=\"text-align: right;\">\n",
              "      <th></th>\n",
              "      <th>Legs</th>\n",
              "    </tr>\n",
              "    <tr>\n",
              "      <th>Type</th>\n",
              "      <th></th>\n",
              "    </tr>\n",
              "  </thead>\n",
              "  <tbody>\n",
              "    <tr>\n",
              "      <th>Bug</th>\n",
              "      <td>18</td>\n",
              "    </tr>\n",
              "    <tr>\n",
              "      <th>Dark</th>\n",
              "      <td>6</td>\n",
              "    </tr>\n",
              "    <tr>\n",
              "      <th>Dragon</th>\n",
              "      <td>1</td>\n",
              "    </tr>\n",
              "    <tr>\n",
              "      <th>Electric</th>\n",
              "      <td>12</td>\n",
              "    </tr>\n",
              "    <tr>\n",
              "      <th>Fairy</th>\n",
              "      <td>13</td>\n",
              "    </tr>\n",
              "    <tr>\n",
              "      <th>Fighting</th>\n",
              "      <td>11</td>\n",
              "    </tr>\n",
              "    <tr>\n",
              "      <th>Fire</th>\n",
              "      <td>20</td>\n",
              "    </tr>\n",
              "    <tr>\n",
              "      <th>Flying</th>\n",
              "      <td>35</td>\n",
              "    </tr>\n",
              "    <tr>\n",
              "      <th>Ghost</th>\n",
              "      <td>1</td>\n",
              "    </tr>\n",
              "    <tr>\n",
              "      <th>Grass</th>\n",
              "      <td>20</td>\n",
              "    </tr>\n",
              "    <tr>\n",
              "      <th>Ground</th>\n",
              "      <td>18</td>\n",
              "    </tr>\n",
              "    <tr>\n",
              "      <th>Ice</th>\n",
              "      <td>7</td>\n",
              "    </tr>\n",
              "    <tr>\n",
              "      <th>Normal</th>\n",
              "      <td>34</td>\n",
              "    </tr>\n",
              "    <tr>\n",
              "      <th>Poison</th>\n",
              "      <td>21</td>\n",
              "    </tr>\n",
              "    <tr>\n",
              "      <th>Psychic</th>\n",
              "      <td>21</td>\n",
              "    </tr>\n",
              "    <tr>\n",
              "      <th>Rock</th>\n",
              "      <td>11</td>\n",
              "    </tr>\n",
              "    <tr>\n",
              "      <th>Steel</th>\n",
              "      <td>2</td>\n",
              "    </tr>\n",
              "    <tr>\n",
              "      <th>Water</th>\n",
              "      <td>30</td>\n",
              "    </tr>\n",
              "  </tbody>\n",
              "</table>\n",
              "</div><br><label><b>dtype:</b> int64</label>"
            ]
          },
          "metadata": {},
          "execution_count": 26
        }
      ]
    },
    {
      "cell_type": "markdown",
      "source": [
        "### Average Height for Each Pokemon Type"
      ],
      "metadata": {
        "id": "Dno2iXREYv1P"
      }
    },
    {
      "cell_type": "code",
      "source": [
        "# Displaying average height for each pokemon type\n",
        "Height_Mean = pokemon_df.groupby('Type')[\"Height\"].mean()\n",
        "Height_Mean"
      ],
      "metadata": {
        "colab": {
          "base_uri": "https://localhost:8080/",
          "height": 680
        },
        "id": "DQHKLq5UYKr8",
        "outputId": "edb29b37-b929-435d-87c0-7103e6f24eb8"
      },
      "execution_count": null,
      "outputs": [
        {
          "output_type": "execute_result",
          "data": {
            "text/plain": [
              "Type\n",
              "Bug         0.995238\n",
              "Dark        1.066667\n",
              "Dragon      2.450000\n",
              "Electric    0.882353\n",
              "Fairy       0.723077\n",
              "Fighting    1.200000\n",
              "Fire        1.263636\n",
              "Flying      1.494872\n",
              "Ghost       1.275000\n",
              "Grass       0.920833\n",
              "Ground      1.587500\n",
              "Ice         1.250000\n",
              "Normal      1.075000\n",
              "Poison      1.113158\n",
              "Psychic     1.325000\n",
              "Rock        1.472222\n",
              "Steel       2.533333\n",
              "Water       1.198000\n",
              "Name: Height, dtype: float64"
            ],
            "text/html": [
              "<div>\n",
              "<style scoped>\n",
              "    .dataframe tbody tr th:only-of-type {\n",
              "        vertical-align: middle;\n",
              "    }\n",
              "\n",
              "    .dataframe tbody tr th {\n",
              "        vertical-align: top;\n",
              "    }\n",
              "\n",
              "    .dataframe thead th {\n",
              "        text-align: right;\n",
              "    }\n",
              "</style>\n",
              "<table border=\"1\" class=\"dataframe\">\n",
              "  <thead>\n",
              "    <tr style=\"text-align: right;\">\n",
              "      <th></th>\n",
              "      <th>Height</th>\n",
              "    </tr>\n",
              "    <tr>\n",
              "      <th>Type</th>\n",
              "      <th></th>\n",
              "    </tr>\n",
              "  </thead>\n",
              "  <tbody>\n",
              "    <tr>\n",
              "      <th>Bug</th>\n",
              "      <td>0.995238</td>\n",
              "    </tr>\n",
              "    <tr>\n",
              "      <th>Dark</th>\n",
              "      <td>1.066667</td>\n",
              "    </tr>\n",
              "    <tr>\n",
              "      <th>Dragon</th>\n",
              "      <td>2.450000</td>\n",
              "    </tr>\n",
              "    <tr>\n",
              "      <th>Electric</th>\n",
              "      <td>0.882353</td>\n",
              "    </tr>\n",
              "    <tr>\n",
              "      <th>Fairy</th>\n",
              "      <td>0.723077</td>\n",
              "    </tr>\n",
              "    <tr>\n",
              "      <th>Fighting</th>\n",
              "      <td>1.200000</td>\n",
              "    </tr>\n",
              "    <tr>\n",
              "      <th>Fire</th>\n",
              "      <td>1.263636</td>\n",
              "    </tr>\n",
              "    <tr>\n",
              "      <th>Flying</th>\n",
              "      <td>1.494872</td>\n",
              "    </tr>\n",
              "    <tr>\n",
              "      <th>Ghost</th>\n",
              "      <td>1.275000</td>\n",
              "    </tr>\n",
              "    <tr>\n",
              "      <th>Grass</th>\n",
              "      <td>0.920833</td>\n",
              "    </tr>\n",
              "    <tr>\n",
              "      <th>Ground</th>\n",
              "      <td>1.587500</td>\n",
              "    </tr>\n",
              "    <tr>\n",
              "      <th>Ice</th>\n",
              "      <td>1.250000</td>\n",
              "    </tr>\n",
              "    <tr>\n",
              "      <th>Normal</th>\n",
              "      <td>1.075000</td>\n",
              "    </tr>\n",
              "    <tr>\n",
              "      <th>Poison</th>\n",
              "      <td>1.113158</td>\n",
              "    </tr>\n",
              "    <tr>\n",
              "      <th>Psychic</th>\n",
              "      <td>1.325000</td>\n",
              "    </tr>\n",
              "    <tr>\n",
              "      <th>Rock</th>\n",
              "      <td>1.472222</td>\n",
              "    </tr>\n",
              "    <tr>\n",
              "      <th>Steel</th>\n",
              "      <td>2.533333</td>\n",
              "    </tr>\n",
              "    <tr>\n",
              "      <th>Water</th>\n",
              "      <td>1.198000</td>\n",
              "    </tr>\n",
              "  </tbody>\n",
              "</table>\n",
              "</div><br><label><b>dtype:</b> float64</label>"
            ]
          },
          "metadata": {},
          "execution_count": 27
        }
      ]
    },
    {
      "cell_type": "markdown",
      "source": [
        "### Average Weight for Each Pokemon Type"
      ],
      "metadata": {
        "id": "qiJZL67hY1hQ"
      }
    },
    {
      "cell_type": "code",
      "source": [
        "# Displaying average weight for each pokemon type\n",
        "Weight_Mean = pokemon_df.groupby('Type')[\"Weight\"].mean()\n",
        "Weight_Mean"
      ],
      "metadata": {
        "colab": {
          "base_uri": "https://localhost:8080/",
          "height": 680
        },
        "id": "vONgO_I8Y20i",
        "outputId": "22ea4f7e-ae51-44de-eedd-8919f07a099e"
      },
      "execution_count": null,
      "outputs": [
        {
          "output_type": "execute_result",
          "data": {
            "text/plain": [
              "Type\n",
              "Bug          34.180952\n",
              "Dark         50.816667\n",
              "Dragon       95.450000\n",
              "Electric     35.688235\n",
              "Fairy        17.053846\n",
              "Fighting     50.636364\n",
              "Fire         56.222727\n",
              "Flying       55.897436\n",
              "Ghost        10.425000\n",
              "Grass        21.629167\n",
              "Ground       87.800000\n",
              "Ice          68.080000\n",
              "Normal       46.866667\n",
              "Poison       24.284211\n",
              "Psychic      49.795833\n",
              "Rock         87.111111\n",
              "Steel       126.716667\n",
              "Water        54.448000\n",
              "Name: Weight, dtype: float64"
            ],
            "text/html": [
              "<div>\n",
              "<style scoped>\n",
              "    .dataframe tbody tr th:only-of-type {\n",
              "        vertical-align: middle;\n",
              "    }\n",
              "\n",
              "    .dataframe tbody tr th {\n",
              "        vertical-align: top;\n",
              "    }\n",
              "\n",
              "    .dataframe thead th {\n",
              "        text-align: right;\n",
              "    }\n",
              "</style>\n",
              "<table border=\"1\" class=\"dataframe\">\n",
              "  <thead>\n",
              "    <tr style=\"text-align: right;\">\n",
              "      <th></th>\n",
              "      <th>Weight</th>\n",
              "    </tr>\n",
              "    <tr>\n",
              "      <th>Type</th>\n",
              "      <th></th>\n",
              "    </tr>\n",
              "  </thead>\n",
              "  <tbody>\n",
              "    <tr>\n",
              "      <th>Bug</th>\n",
              "      <td>34.180952</td>\n",
              "    </tr>\n",
              "    <tr>\n",
              "      <th>Dark</th>\n",
              "      <td>50.816667</td>\n",
              "    </tr>\n",
              "    <tr>\n",
              "      <th>Dragon</th>\n",
              "      <td>95.450000</td>\n",
              "    </tr>\n",
              "    <tr>\n",
              "      <th>Electric</th>\n",
              "      <td>35.688235</td>\n",
              "    </tr>\n",
              "    <tr>\n",
              "      <th>Fairy</th>\n",
              "      <td>17.053846</td>\n",
              "    </tr>\n",
              "    <tr>\n",
              "      <th>Fighting</th>\n",
              "      <td>50.636364</td>\n",
              "    </tr>\n",
              "    <tr>\n",
              "      <th>Fire</th>\n",
              "      <td>56.222727</td>\n",
              "    </tr>\n",
              "    <tr>\n",
              "      <th>Flying</th>\n",
              "      <td>55.897436</td>\n",
              "    </tr>\n",
              "    <tr>\n",
              "      <th>Ghost</th>\n",
              "      <td>10.425000</td>\n",
              "    </tr>\n",
              "    <tr>\n",
              "      <th>Grass</th>\n",
              "      <td>21.629167</td>\n",
              "    </tr>\n",
              "    <tr>\n",
              "      <th>Ground</th>\n",
              "      <td>87.800000</td>\n",
              "    </tr>\n",
              "    <tr>\n",
              "      <th>Ice</th>\n",
              "      <td>68.080000</td>\n",
              "    </tr>\n",
              "    <tr>\n",
              "      <th>Normal</th>\n",
              "      <td>46.866667</td>\n",
              "    </tr>\n",
              "    <tr>\n",
              "      <th>Poison</th>\n",
              "      <td>24.284211</td>\n",
              "    </tr>\n",
              "    <tr>\n",
              "      <th>Psychic</th>\n",
              "      <td>49.795833</td>\n",
              "    </tr>\n",
              "    <tr>\n",
              "      <th>Rock</th>\n",
              "      <td>87.111111</td>\n",
              "    </tr>\n",
              "    <tr>\n",
              "      <th>Steel</th>\n",
              "      <td>126.716667</td>\n",
              "    </tr>\n",
              "    <tr>\n",
              "      <th>Water</th>\n",
              "      <td>54.448000</td>\n",
              "    </tr>\n",
              "  </tbody>\n",
              "</table>\n",
              "</div><br><label><b>dtype:</b> float64</label>"
            ]
          },
          "metadata": {},
          "execution_count": 28
        }
      ]
    },
    {
      "cell_type": "markdown",
      "source": [
        "### Using Pearson Coefficient Correlation"
      ],
      "metadata": {
        "id": "9XlebREf62gT"
      }
    },
    {
      "cell_type": "code",
      "source": [
        "# Finding the correlation between a pokemon's weight and height by computing the Pearson correlation coefficient.\n",
        "x = pokemon_df['Weight']\n",
        "y = pokemon_df['Height']\n",
        "\n",
        "weight_height = pearson_correlation(x, y)\n",
        "print(\"Pearson Correlation Coefficient:\", weight_height)"
      ],
      "metadata": {
        "colab": {
          "base_uri": "https://localhost:8080/"
        },
        "id": "5M2vIK_t68Wm",
        "outputId": "5e937f1c-29b0-4dd4-b53d-8b52aaddf494"
      },
      "execution_count": null,
      "outputs": [
        {
          "output_type": "stream",
          "name": "stdout",
          "text": [
            "Pearson Correlation Coefficient: 0.72\n"
          ]
        }
      ]
    },
    {
      "cell_type": "code",
      "source": [
        "# Finding the correlation between a pokemon's flying typing and wings by computing the Pearson correlation coefficient.\n",
        "x = pokemon_encoded['Type_Flying']\n",
        "y = pokemon_df['Wings']\n",
        "\n",
        "flying_wings = pearson_correlation(x, y)\n",
        "print(\"Pearson Correlation Coefficient:\", flying_wings)"
      ],
      "metadata": {
        "colab": {
          "base_uri": "https://localhost:8080/"
        },
        "id": "X8p8t6wi8dLY",
        "outputId": "32768202-56c7-411d-b8e3-76f954dc7fe3"
      },
      "execution_count": null,
      "outputs": [
        {
          "output_type": "stream",
          "name": "stdout",
          "text": [
            "Pearson Correlation Coefficient: 0.57\n"
          ]
        }
      ]
    },
    {
      "cell_type": "code",
      "source": [
        "# Finding the correlation between a pokemon's flying typing and wings by computing the Pearson correlation coefficient.\n",
        "x = pokemon_encoded['Type_Normal']\n",
        "y = pokemon_df['Legs']\n",
        "\n",
        "normal_legs = pearson_correlation(x, y)\n",
        "print(\"Pearson Correlation Coefficient:\", normal_legs)"
      ],
      "metadata": {
        "colab": {
          "base_uri": "https://localhost:8080/"
        },
        "id": "hwPXY8iH8uiD",
        "outputId": "24c26776-b5a5-441a-da1b-254fab672e54"
      },
      "execution_count": null,
      "outputs": [
        {
          "output_type": "stream",
          "name": "stdout",
          "text": [
            "Pearson Correlation Coefficient: 0.14\n"
          ]
        }
      ]
    },
    {
      "cell_type": "markdown",
      "source": [
        "## Data Visualizations"
      ],
      "metadata": {
        "id": "ygvmfB9s97kc"
      }
    },
    {
      "cell_type": "code",
      "source": [
        "# Plotting the count of Pokemon Per Typing\n",
        "\n",
        "type_count.plot(kind='bar', color = 'skyblue')\n",
        "\n",
        "plt.xlabel('Type')\n",
        "plt.ylabel('Number of Pokemon')\n",
        "plt.title('Count of Pokemon Per Type')\n",
        "\n",
        "plt.show()"
      ],
      "metadata": {
        "colab": {
          "base_uri": "https://localhost:8080/",
          "height": 513
        },
        "id": "X0uxlE_N9-PC",
        "outputId": "da175aec-0f65-4592-b92e-31601f918088"
      },
      "execution_count": null,
      "outputs": [
        {
          "output_type": "display_data",
          "data": {
            "text/plain": [
              "<Figure size 640x480 with 1 Axes>"
            ],
            "image/png": "[encoded data removed]"
          },
          "metadata": {}
        }
      ]
    },
    {
      "cell_type": "code",
      "source": [
        "# Plot value counts of pokemon types with wings as a pie chart\n",
        "Wing_Count.plot(kind='pie', autopct='%1.1f%%')\n",
        "plt.title('Distribution of Pokemon Types With Wings')\n",
        "\n",
        "# Display the plot\n",
        "plt.show()"
      ],
      "metadata": {
        "colab": {
          "base_uri": "https://localhost:8080/",
          "height": 428
        },
        "id": "yZjjryf--rDG",
        "outputId": "74a6dee6-bf68-4be1-bf4c-34a7fcdaa1d6"
      },
      "execution_count": null,
      "outputs": [
        {
          "output_type": "display_data",
          "data": {
            "text/plain": [
              "<Figure size 640x480 with 1 Axes>"
            ],
            "image/png": "[encoded data removed]"
          },
          "metadata": {}
        }
      ]
    },
    {
      "cell_type": "code",
      "source": [
        "# Plot the average height for each Pokemon typing\n",
        "Height_Mean.plot(kind='bar', color ='red')\n",
        "plt.title('Average Height by Pokemon Type')\n",
        "plt.xlabel('Typing')\n",
        "plt.ylabel('Mean Height')\n",
        "\n",
        "# Display the plot\n",
        "plt.show()"
      ],
      "metadata": {
        "colab": {
          "base_uri": "https://localhost:8080/",
          "height": 513
        },
        "id": "iOngfQ4JBGe1",
        "outputId": "e399ab70-beb6-47dd-87bb-cc8f85d61bdf"
      },
      "execution_count": null,
      "outputs": [
        {
          "output_type": "display_data",
          "data": {
            "text/plain": [
              "<Figure size 640x480 with 1 Axes>"
            ],
            "image/png": "[encoded data removed]"
          },
          "metadata": {}
        }
      ]
    },
    {
      "cell_type": "code",
      "source": [
        "# Plot the average weight for each Pokemon typing\n",
        "Weight_Mean.plot(kind='bar', color ='blue')\n",
        "plt.title('Average Weight by Pokemon Type')\n",
        "plt.xlabel('Typing')\n",
        "plt.ylabel('Mean Weight')\n",
        "\n",
        "# Display the plot\n",
        "plt.show()"
      ],
      "metadata": {
        "colab": {
          "base_uri": "https://localhost:8080/",
          "height": 513
        },
        "id": "KjbEQ3okBxTE",
        "outputId": "cab484bd-9efa-4b30-ee1f-a954c5938bbf"
      },
      "execution_count": null,
      "outputs": [
        {
          "output_type": "display_data",
          "data": {
            "text/plain": [
              "<Figure size 640x480 with 1 Axes>"
            ],
            "image/png": "[encoded data removed]"
          },
          "metadata": {}
        }
      ]
    },
    {
      "cell_type": "markdown",
      "source": [
        "## Logistic Regression Analysis\n"
      ],
      "metadata": {
        "id": "SEgxARHIaIQw"
      }
    },
    {
      "cell_type": "code",
      "source": [
        "# Importing libraries for logistic regression\n",
        "from sklearn.preprocessing import StandardScaler\n",
        "from sklearn.linear_model import LogisticRegression\n",
        "from sklearn import metrics\n",
        "from sklearn.metrics import accuracy_score, classification_report, confusion_matrix, roc_curve, auc\n",
        "import matplotlib.pyplot as plt\n",
        "import numpy\n",
        "from sklearn import metrics"
      ],
      "metadata": {
        "id": "--REszlPaPpO"
      },
      "execution_count": null,
      "outputs": []
    },
    {
      "cell_type": "markdown",
      "source": [
        "### Predicting Pokemon's Type"
      ],
      "metadata": {
        "id": "mWjjM6Rhhc5U"
      }
    },
    {
      "cell_type": "code",
      "source": [
        "# Selected features\n",
        "features = ['Weight', 'Height', 'Wings', 'Arms', 'Legs']\n",
        "# Predicting the pokemon's type based on the selected features\n",
        "target = 'Type'\n",
        "\n",
        "X = pokemon_df[features]\n",
        "y = pokemon_df[target]\n",
        "\n",
        "# Split data into training and testing sets\n",
        "X_train, X_test, y_train, y_test = train_test_split(X, y, test_size=0.2, random_state=42)\n",
        "\n",
        "# Create and train the logistic regression model\n",
        "model = LogisticRegression(max_iter=5000)\n",
        "model.fit(X_train, y_train)\n",
        "\n",
        "# Make predictions on the test set\n",
        "y_pred = model.predict(X_test)\n",
        "\n",
        "# Evaluating the model\n",
        "# Accuracy Score\n",
        "accuracy = logisticregression_accuracyscore(y_test, y_pred)\n",
        "print(f\"Accuracy: {accuracy}\\n\")\n",
        "\n",
        "\n",
        "# Confusion matrix\n",
        "confusion_matrix = metrics.confusion_matrix(y_test, y_pred)\n",
        "\n",
        "cm_display = metrics.ConfusionMatrixDisplay(confusion_matrix = confusion_matrix)\n",
        "\n",
        "cm_display.plot()\n",
        "plt.show()\n",
        "\n",
        "# Display feature importance using coefficients\n",
        "\n",
        "coefficients = model.coef_[0]\n",
        "\n",
        "feature_importance = pd.DataFrame({\n",
        "    'Feature': X.columns,\n",
        "    'Coefficient': coefficients,\n",
        "})\n",
        "\n",
        "print(\"\\n\", feature_importance.sort_values(by='Coefficient', ascending=False))\n"
      ],
      "metadata": {
        "colab": {
          "base_uri": "https://localhost:8080/",
          "height": 611
        },
        "id": "SUnYezTGaYxz",
        "outputId": "02061131-e039-42fa-cfba-4fa3aec79528"
      },
      "execution_count": null,
      "outputs": [
        {
          "output_type": "stream",
          "name": "stdout",
          "text": [
            "Accuracy: 0.11\n",
            "\n"
          ]
        },
        {
          "output_type": "display_data",
          "data": {
            "text/plain": [
              "<Figure size 640x480 with 2 Axes>"
            ],
            "image/png": "[encoded data removed]"
          },
          "metadata": {}
        },
        {
          "output_type": "stream",
          "name": "stdout",
          "text": [
            "\n",
            "   Feature  Coefficient\n",
            "4    Legs     0.473093\n",
            "2   Wings     0.330243\n",
            "0  Weight     0.003353\n",
            "1  Height    -0.204747\n",
            "3    Arms    -0.352401\n"
          ]
        }
      ]
    },
    {
      "cell_type": "markdown",
      "source": [
        "### Predicting a Specific Type"
      ],
      "metadata": {
        "id": "Hy-PU8PXhOP6"
      }
    },
    {
      "cell_type": "code",
      "source": [
        "# Selected features\n",
        "features = ['Weight', 'Height', 'Wings', 'Arms', 'Legs']\n",
        "# Predicting the pokemon's type based on the selected features\n",
        "target = 'Type_Water'\n",
        "\n",
        "X = pokemon_df[features]\n",
        "y = pokemon_encoded[target]\n",
        "\n",
        "# Split data into training and testing sets\n",
        "X_train, X_test, y_train, y_test = train_test_split(X, y, test_size=0.2, random_state=42)\n",
        "\n",
        "# Create and train the logistic regression model\n",
        "model = LogisticRegression(max_iter=5000)\n",
        "model.fit(X_train, y_train)\n",
        "\n",
        "# Make predictions on the test set\n",
        "y_pred = model.predict(X_test)\n",
        "\n",
        "# Evaluating the model\n",
        "# Accuracy Score\n",
        "accuracy = logisticregression_accuracyscore(y_test, y_pred)\n",
        "print(f\"Accuracy: {accuracy}\\n\")\n",
        "\n",
        "# Confusion matrix\n",
        "confusion_matrix = metrics.confusion_matrix(y_test, y_pred)\n",
        "\n",
        "cm_display = metrics.ConfusionMatrixDisplay(confusion_matrix = confusion_matrix)\n",
        "\n",
        "cm_display.plot()\n",
        "plt.show()\n",
        "\n",
        "# Display feature importance using coefficients\n",
        "\n",
        "coefficients = model.coef_[0]\n",
        "\n",
        "feature_importance = pd.DataFrame({\n",
        "    'Feature': X.columns,\n",
        "    'Coefficient': coefficients,\n",
        "})\n",
        "\n",
        "print(\"\\n\", feature_importance.sort_values(by='Coefficient', ascending=False))\n"
      ],
      "metadata": {
        "colab": {
          "base_uri": "https://localhost:8080/",
          "height": 611
        },
        "id": "d-6uHTTEgw_y",
        "outputId": "66df5aee-eb68-416d-846d-11de03366d54"
      },
      "execution_count": null,
      "outputs": [
        {
          "output_type": "stream",
          "name": "stdout",
          "text": [
            "Accuracy: 0.95\n",
            "\n"
          ]
        },
        {
          "output_type": "display_data",
          "data": {
            "text/plain": [
              "<Figure size 640x480 with 2 Axes>"
            ],
            "image/png": "[encoded data removed]"
          },
          "metadata": {}
        },
        {
          "output_type": "stream",
          "name": "stdout",
          "text": [
            "\n",
            "   Feature  Coefficient\n",
            "3    Arms     0.585772\n",
            "0  Weight     0.002088\n",
            "1  Height    -0.132090\n",
            "4    Legs    -0.879765\n",
            "2   Wings    -1.258418\n"
          ]
        }
      ]
    }
  ]
}